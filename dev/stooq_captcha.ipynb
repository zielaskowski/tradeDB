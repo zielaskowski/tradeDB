{
 "cells": [
  {
   "cell_type": "code",
   "execution_count": 68,
   "metadata": {},
   "outputs": [],
   "source": [
    "import requests as rq\n",
    "from bs4 import BeautifulSoup as bs\n",
    "import os\n",
    "from importlib import reload\n",
    "from playwright.async_api import async_playwright\n",
    "project_dir = '/home/mi/Dropbox/prog/python/tradeDB'\n",
    "os.chdir(project_dir)\n",
    "\n",
    "from workers import api\n",
    "from workers import common\n",
    "\n",
    "STOOQ_COOKIE = \"./assets/header_stooq.jsonc\""
   ]
  },
  {
   "cell_type": "code",
   "execution_count": 2,
   "metadata": {},
   "outputs": [],
   "source": [
    "url= 'https://stooq.com/q/d?s=2388.hk&d1=20230331&d2=20230717&l=1'"
   ]
  },
  {
   "cell_type": "code",
   "execution_count": 53,
   "metadata": {},
   "outputs": [
    {
     "data": {
      "text/plain": [
       "<module 'workers.common' from '/home/mi/Dropbox/prog/python/tradeDB/workers/common.py'>"
      ]
     },
     "execution_count": 53,
     "metadata": {},
     "output_type": "execute_result"
    }
   ],
   "source": [
    "reload(common)"
   ]
  },
  {
   "cell_type": "code",
   "execution_count": 54,
   "metadata": {},
   "outputs": [],
   "source": [
    "# we are consent\n",
    "header = common.set_header(STOOQ_COOKIE, referer=url)\n",
    "resp=rq.get(url=url, headers=header)\n",
    "#header = common.set_header(STOOQ_COOKIE, referer=url,cookie=[resp.headers['Set-Cookie']])"
   ]
  },
  {
   "cell_type": "code",
   "execution_count": 55,
   "metadata": {},
   "outputs": [
    {
     "data": {
      "text/plain": [
       "{'Accept': 'text/html,application/xhtml+xml,application/xml;q=0.9,image/webp,*/*;q=0.8',\n",
       " 'Accept-Encoding': 'gzip, deflate, br',\n",
       " 'Accept-Language': 'pl,en-US;q=0.7,en;q=0.3',\n",
       " 'Connection': 'keep-alive',\n",
       " 'Cookie': '',\n",
       " 'Host': 'stooq.com',\n",
       " 'Referer': 'https://stooq.com/q/d?s=2388.hk&d1=20230331&d2=20230717&l=1',\n",
       " 'Sec-Fetch-Dest': 'document',\n",
       " 'Sec-Fetch-Mode': 'navigate',\n",
       " 'Sec-Fetch-Site': 'same-origin',\n",
       " 'Sec-Fetch-User': '?1',\n",
       " 'Upgrade-Insecure-Requests': '1',\n",
       " 'User-Agent': 'Mozilla/5.0 (X11; Linux x86_64; rv:91.0) Gecko/20100101 Firefox/91.0'}"
      ]
     },
     "execution_count": 55,
     "metadata": {},
     "output_type": "execute_result"
    }
   ],
   "source": [
    "header"
   ]
  },
  {
   "cell_type": "code",
   "execution_count": 71,
   "metadata": {},
   "outputs": [
    {
     "name": "stdout",
     "output_type": "stream",
     "text": [
      "GDPR page. Use playwright to process js and create cookies for GDPR\n",
      "<bound method Page.text_content of <Page url='https://stooq.com/q/d/?s=2388.hk&d1=20230331&d2=20230717&l=1'>>\n"
     ]
    }
   ],
   "source": [
    "# GDPR dialog\n",
    "# when no cookies present, first time use\n",
    "page = bs(resp.content, 'lxml')\n",
    "if page.body is None:\n",
    "    print('GDPR page. Use playwright to process js and create cookies for GDPR')\n",
    "    async with async_playwright() as p:\n",
    "        browser = await p.chromium.launch()\n",
    "        page = await browser.new_page()\n",
    "        await page.goto(url=url)\n",
    "        print(page.text_content)\n",
    "\n"
   ]
  },
  {
   "cell_type": "code",
   "execution_count": 77,
   "metadata": {},
   "outputs": [
    {
     "ename": "Error",
     "evalue": "Connection closed",
     "output_type": "error",
     "traceback": [
      "\u001b[0;31m---------------------------------------------------------------------------\u001b[0m",
      "\u001b[0;31mError\u001b[0m                                     Traceback (most recent call last)",
      "Cell \u001b[0;32mIn[77], line 1\u001b[0m\n\u001b[0;32m----> 1\u001b[0m \u001b[38;5;28;01mawait\u001b[39;00m page\u001b[38;5;241m.\u001b[39mcontent()\n",
      "File \u001b[0;32m~/.backup/venv/tradeDB/lib64/python3.8/site-packages/playwright/async_api/_generated.py:9146\u001b[0m, in \u001b[0;36mPage.content\u001b[0;34m(self)\u001b[0m\n\u001b[1;32m   9136\u001b[0m \u001b[39masync\u001b[39;00m \u001b[39mdef\u001b[39;00m \u001b[39mcontent\u001b[39m(\u001b[39mself\u001b[39m) \u001b[39m-\u001b[39m\u001b[39m>\u001b[39m \u001b[39mstr\u001b[39m:\n\u001b[1;32m   9137\u001b[0m \u001b[39m    \u001b[39m\u001b[39m\"\"\"Page.content\u001b[39;00m\n\u001b[1;32m   9138\u001b[0m \n\u001b[1;32m   9139\u001b[0m \u001b[39m    Gets the full HTML contents of the page, including the doctype.\u001b[39;00m\n\u001b[0;32m   (...)\u001b[0m\n\u001b[1;32m   9143\u001b[0m \u001b[39m    str\u001b[39;00m\n\u001b[1;32m   9144\u001b[0m \u001b[39m    \"\"\"\u001b[39;00m\n\u001b[0;32m-> 9146\u001b[0m     \u001b[39mreturn\u001b[39;00m mapping\u001b[39m.\u001b[39mfrom_maybe_impl(\u001b[39mawait\u001b[39;00m \u001b[39mself\u001b[39m\u001b[39m.\u001b[39m_impl_obj\u001b[39m.\u001b[39mcontent())\n",
      "File \u001b[0;32m~/.backup/venv/tradeDB/lib64/python3.8/site-packages/playwright/_impl/_page.py:462\u001b[0m, in \u001b[0;36mPage.content\u001b[0;34m(self)\u001b[0m\n\u001b[1;32m    461\u001b[0m \u001b[39masync\u001b[39;00m \u001b[39mdef\u001b[39;00m \u001b[39mcontent\u001b[39m(\u001b[39mself\u001b[39m) \u001b[39m-\u001b[39m\u001b[39m>\u001b[39m \u001b[39mstr\u001b[39m:\n\u001b[0;32m--> 462\u001b[0m     \u001b[39mreturn\u001b[39;00m \u001b[39mawait\u001b[39;00m \u001b[39mself\u001b[39m\u001b[39m.\u001b[39m_main_frame\u001b[39m.\u001b[39mcontent()\n",
      "File \u001b[0;32m~/.backup/venv/tradeDB/lib64/python3.8/site-packages/playwright/_impl/_frame.py:415\u001b[0m, in \u001b[0;36mFrame.content\u001b[0;34m(self)\u001b[0m\n\u001b[1;32m    414\u001b[0m \u001b[39masync\u001b[39;00m \u001b[39mdef\u001b[39;00m \u001b[39mcontent\u001b[39m(\u001b[39mself\u001b[39m) \u001b[39m-\u001b[39m\u001b[39m>\u001b[39m \u001b[39mstr\u001b[39m:\n\u001b[0;32m--> 415\u001b[0m     \u001b[39mreturn\u001b[39;00m \u001b[39mawait\u001b[39;00m \u001b[39mself\u001b[39m\u001b[39m.\u001b[39m_channel\u001b[39m.\u001b[39msend(\u001b[39m\"\u001b[39m\u001b[39mcontent\u001b[39m\u001b[39m\"\u001b[39m)\n",
      "File \u001b[0;32m~/.backup/venv/tradeDB/lib64/python3.8/site-packages/playwright/_impl/_connection.py:61\u001b[0m, in \u001b[0;36mChannel.send\u001b[0;34m(self, method, params)\u001b[0m\n\u001b[1;32m     60\u001b[0m \u001b[39masync\u001b[39;00m \u001b[39mdef\u001b[39;00m \u001b[39msend\u001b[39m(\u001b[39mself\u001b[39m, method: \u001b[39mstr\u001b[39m, params: Dict \u001b[39m=\u001b[39m \u001b[39mNone\u001b[39;00m) \u001b[39m-\u001b[39m\u001b[39m>\u001b[39m Any:\n\u001b[0;32m---> 61\u001b[0m     \u001b[39mreturn\u001b[39;00m \u001b[39mawait\u001b[39;00m \u001b[39mself\u001b[39m\u001b[39m.\u001b[39m_connection\u001b[39m.\u001b[39mwrap_api_call(\n\u001b[1;32m     62\u001b[0m         \u001b[39mlambda\u001b[39;00m: \u001b[39mself\u001b[39m\u001b[39m.\u001b[39minner_send(method, params, \u001b[39mFalse\u001b[39;00m)\n\u001b[1;32m     63\u001b[0m     )\n",
      "File \u001b[0;32m~/.backup/venv/tradeDB/lib64/python3.8/site-packages/playwright/_impl/_connection.py:482\u001b[0m, in \u001b[0;36mConnection.wrap_api_call\u001b[0;34m(self, cb, is_internal)\u001b[0m\n\u001b[1;32m    480\u001b[0m \u001b[39mself\u001b[39m\u001b[39m.\u001b[39m_api_zone\u001b[39m.\u001b[39mset(_extract_stack_trace_information_from_stack(st, is_internal))\n\u001b[1;32m    481\u001b[0m \u001b[39mtry\u001b[39;00m:\n\u001b[0;32m--> 482\u001b[0m     \u001b[39mreturn\u001b[39;00m \u001b[39mawait\u001b[39;00m cb()\n\u001b[1;32m    483\u001b[0m \u001b[39mfinally\u001b[39;00m:\n\u001b[1;32m    484\u001b[0m     \u001b[39mself\u001b[39m\u001b[39m.\u001b[39m_api_zone\u001b[39m.\u001b[39mset(\u001b[39mNone\u001b[39;00m)\n",
      "File \u001b[0;32m~/.backup/venv/tradeDB/lib64/python3.8/site-packages/playwright/_impl/_connection.py:83\u001b[0m, in \u001b[0;36mChannel.inner_send\u001b[0;34m(self, method, params, return_as_dict)\u001b[0m\n\u001b[1;32m     81\u001b[0m \u001b[39mif\u001b[39;00m params \u001b[39mis\u001b[39;00m \u001b[39mNone\u001b[39;00m:\n\u001b[1;32m     82\u001b[0m     params \u001b[39m=\u001b[39m {}\n\u001b[0;32m---> 83\u001b[0m callback \u001b[39m=\u001b[39m \u001b[39mself\u001b[39;49m\u001b[39m.\u001b[39;49m_connection\u001b[39m.\u001b[39;49m_send_message_to_server(\u001b[39mself\u001b[39;49m\u001b[39m.\u001b[39;49m_guid, method, params)\n\u001b[1;32m     84\u001b[0m \u001b[39mif\u001b[39;00m \u001b[39mself\u001b[39m\u001b[39m.\u001b[39m_connection\u001b[39m.\u001b[39m_error:\n\u001b[1;32m     85\u001b[0m     error \u001b[39m=\u001b[39m \u001b[39mself\u001b[39m\u001b[39m.\u001b[39m_connection\u001b[39m.\u001b[39m_error\n",
      "File \u001b[0;32m~/.backup/venv/tradeDB/lib64/python3.8/site-packages/playwright/_impl/_connection.py:314\u001b[0m, in \u001b[0;36mConnection._send_message_to_server\u001b[0;34m(self, guid, method, params, no_reply)\u001b[0m\n\u001b[1;32m    310\u001b[0m \u001b[39mdef\u001b[39;00m \u001b[39m_send_message_to_server\u001b[39m(\n\u001b[1;32m    311\u001b[0m     \u001b[39mself\u001b[39m, guid: \u001b[39mstr\u001b[39m, method: \u001b[39mstr\u001b[39m, params: Dict, no_reply: \u001b[39mbool\u001b[39m \u001b[39m=\u001b[39m \u001b[39mFalse\u001b[39;00m\n\u001b[1;32m    312\u001b[0m ) \u001b[39m-\u001b[39m\u001b[39m>\u001b[39m ProtocolCallback:\n\u001b[1;32m    313\u001b[0m     \u001b[39mif\u001b[39;00m \u001b[39mself\u001b[39m\u001b[39m.\u001b[39m_closed_error_message:\n\u001b[0;32m--> 314\u001b[0m         \u001b[39mraise\u001b[39;00m Error(\u001b[39mself\u001b[39m\u001b[39m.\u001b[39m_closed_error_message)\n\u001b[1;32m    315\u001b[0m     \u001b[39mself\u001b[39m\u001b[39m.\u001b[39m_last_id \u001b[39m+\u001b[39m\u001b[39m=\u001b[39m \u001b[39m1\u001b[39m\n\u001b[1;32m    316\u001b[0m     \u001b[39mid\u001b[39m \u001b[39m=\u001b[39m \u001b[39mself\u001b[39m\u001b[39m.\u001b[39m_last_id\n",
      "\u001b[0;31mError\u001b[0m: Connection closed"
     ]
    }
   ],
   "source": [
    "await page.content()"
   ]
  }
 ],
 "metadata": {
  "kernelspec": {
   "display_name": "Python 3.8.13 ('tradeDB')",
   "language": "python",
   "name": "python3"
  },
  "language_info": {
   "codemirror_mode": {
    "name": "ipython",
    "version": 3
   },
   "file_extension": ".py",
   "mimetype": "text/x-python",
   "name": "python",
   "nbconvert_exporter": "python",
   "pygments_lexer": "ipython3",
   "version": "3.8.13"
  },
  "orig_nbformat": 4,
  "vscode": {
   "interpreter": {
    "hash": "a345eaf6868bd42279d78f9802485f449238ee74a5b4ca967b83541dc183f6da"
   }
  }
 },
 "nbformat": 4,
 "nbformat_minor": 2
}
