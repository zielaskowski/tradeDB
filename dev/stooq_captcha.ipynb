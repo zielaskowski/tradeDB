{
 "cells": [
  {
   "cell_type": "markdown",
   "metadata": {},
   "source": [
    "recognize based on id=\"t11\"\n",
    "1. take picture from id=\"cpt_cd\", below is 'img', take 'src'\n",
    "2. teseract picture \n",
    "3. write txt into id=\"f15\" name=\"cpt_t\"\n",
    "4. send with: cpt_a()\n",
    "    \n",
    "    cpt_t=document.getElementsByName('cpt_t')\n",
    "\n",
    "    var b = cpt_t[0].value.toLowerCase();\n",
    "    \n",
    "    a.open('GET', '//stooq.com/q/l/s/?t=' + b, true);\n",
    "    \n",
    "    a.setRequestHeader('Content-type', 'application/x-www-form-urlencoded');\n",
    "    \n",
    "    a.send(null);\n",
    "5. refresh page with: cpt_g(0,0,1)\n"
   ]
  },
  {
   "cell_type": "code",
   "execution_count": 1,
   "metadata": {},
   "outputs": [],
   "source": [
    "from PIL import Image, ImageEnhance, ImageFilter\n",
    "import pytesseract as tes\n",
    "import cv2\n",
    "import imutils\n",
    "\n",
    "def cv2show(img):\n",
    "    cv2.imshow('test',img)\n",
    "    cv2.waitKey(0)\n",
    "    cv2.destroyAllWindows()"
   ]
  },
  {
   "cell_type": "code",
   "execution_count": 42,
   "metadata": {},
   "outputs": [],
   "source": [
    "img_orig=cv2.imread('stooq.png')\n",
    "img=cv2.cvtColor(img_orig,cv2.COLOR_BGR2GRAY)\n",
    "img=cv2.threshold(img,0,255,cv2.THRESH_BINARY+cv2.THRESH_OTSU)[1]\n",
    "\n",
    "hori_ker=cv2.getStructuringElement(cv2.MORPH_RECT,(20,1))\n",
    "vert_ker=cv2.getStructuringElement(cv2.MORPH_RECT,(1,20))\n",
    "hor_lines= cv2.morphologyEx(img,cv2.MORPH_GRADIENT,hori_ker, iterations=2)\n",
    "ver_lines= cv2.morphologyEx(img,cv2.MORPH_GRADIENT,vert_ker, iterations=2)\n",
    "hor_lines=cv2.bitwise_not(hor_lines)\n",
    "ver_lines=cv2.bitwise_not(ver_lines)\n",
    "\n"
   ]
  },
  {
   "cell_type": "code",
   "execution_count": 5,
   "metadata": {},
   "outputs": [],
   "source": [
    "cv2show(ver_lines)"
   ]
  },
  {
   "cell_type": "code",
   "execution_count": 60,
   "metadata": {},
   "outputs": [],
   "source": [
    "cv2show(hor_lines)"
   ]
  },
  {
   "cell_type": "code",
   "execution_count": 48,
   "metadata": {},
   "outputs": [],
   "source": [
    "cv2show(img)"
   ]
  },
  {
   "cell_type": "code",
   "execution_count": 43,
   "metadata": {},
   "outputs": [
    {
     "data": {
      "text/plain": [
       "True"
      ]
     },
     "execution_count": 43,
     "metadata": {},
     "output_type": "execute_result"
    }
   ],
   "source": [
    "result=cv2.bitwise_xor(img,hor_lines)\n",
    "result=cv2.bitwise_or(result,ver_lines)\n",
    "cv2.imwrite('./stooq_trans.png', result)"
   ]
  },
  {
   "cell_type": "code",
   "execution_count": 44,
   "metadata": {},
   "outputs": [
    {
     "data": {
      "text/plain": [
       "True"
      ]
     },
     "execution_count": 44,
     "metadata": {},
     "output_type": "execute_result"
    }
   ],
   "source": [
    "cnts,h=cv2.findContours(result,cv2.RETR_CCOMP,cv2.CHAIN_APPROX_SIMPLE)\n",
    "img_cnt=cv2.drawContours(img_orig*0,cnts,-1,(255,255,255),1)\n",
    "img_cnt=cv2.cvtColor(img_cnt,cv2.COLOR_BGR2GRAY)\n",
    "img_cnt=cv2.threshold(img_cnt,0,255,cv2.THRESH_BINARY+cv2.THRESH_OTSU)[1]\n",
    "cv2.imwrite('./stooq_trans.png', img_cnt)"
   ]
  },
  {
   "cell_type": "code",
   "execution_count": 47,
   "metadata": {},
   "outputs": [],
   "source": [
    "cv2show(img_orig)"
   ]
  },
  {
   "cell_type": "code",
   "execution_count": 22,
   "metadata": {},
   "outputs": [],
   "source": [
    "cv2show(img_cnt)"
   ]
  },
  {
   "cell_type": "code",
   "execution_count": 45,
   "metadata": {},
   "outputs": [
    {
     "data": {
      "text/plain": [
       "True"
      ]
     },
     "execution_count": 45,
     "metadata": {},
     "output_type": "execute_result"
    }
   ],
   "source": [
    "cv2.imwrite('stooq_final.png',cv2.bitwise_xor(result,img_cnt))"
   ]
  },
  {
   "cell_type": "code",
   "execution_count": 20,
   "metadata": {},
   "outputs": [
    {
     "data": {
      "image/png": "[encoded data removed]",
      "text/plain": [
       "<PIL.PngImagePlugin.PngImageFile image mode=L size=200x70>"
      ]
     },
     "execution_count": 20,
     "metadata": {},
     "output_type": "execute_result"
    }
   ],
   "source": [
    "imge=Image.open('stooq_trans.png')\n",
    "imge"
   ]
  },
  {
   "cell_type": "code",
   "execution_count": 46,
   "metadata": {},
   "outputs": [
    {
     "data": {
      "image/png": "[encoded data removed]",
      "text/plain": [
       "<PIL.PngImagePlugin.PngImageFile image mode=L size=200x70>"
      ]
     },
     "execution_count": 46,
     "metadata": {},
     "output_type": "execute_result"
    }
   ],
   "source": [
    "imge=Image.open('stooq_final.png')\n",
    "imge"
   ]
  },
  {
   "cell_type": "code",
   "execution_count": 49,
   "metadata": {},
   "outputs": [
    {
     "data": {
      "image/png": "[encoded data removed]",
      "text/plain": [
       "<PIL.PngImagePlugin.PngImageFile image mode=RGB size=200x70>"
      ]
     },
     "execution_count": 49,
     "metadata": {},
     "output_type": "execute_result"
    }
   ],
   "source": [
    "imge=Image.open('stooq.png')\n",
    "imge"
   ]
  },
  {
   "cell_type": "code",
   "execution_count": 40,
   "metadata": {},
   "outputs": [
    {
     "data": {
      "text/plain": [
       "' \\n\\n \\n\\n \\n\\n \\n\\n \\n\\x0c'"
      ]
     },
     "execution_count": 40,
     "metadata": {},
     "output_type": "execute_result"
    }
   ],
   "source": [
    "tes.image_to_string(imge)"
   ]
  }
 ],
 "metadata": {
  "kernelspec": {
   "display_name": "Python 3.8.13 ('tradeDB')",
   "language": "python",
   "name": "python3"
  },
  "language_info": {
   "codemirror_mode": {
    "name": "ipython",
    "version": 3
   },
   "file_extension": ".py",
   "mimetype": "text/x-python",
   "name": "python",
   "nbconvert_exporter": "python",
   "pygments_lexer": "ipython3",
   "version": "3.8.13"
  },
  "orig_nbformat": 4,
  "vscode": {
   "interpreter": {
    "hash": "a345eaf6868bd42279d78f9802485f449238ee74a5b4ca967b83541dc183f6da"
   }
  }
 },
 "nbformat": 4,
 "nbformat_minor": 2
}
