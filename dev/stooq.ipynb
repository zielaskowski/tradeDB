{
 "cells": [
  {
   "cell_type": "code",
   "execution_count": 3,
   "metadata": {},
   "outputs": [],
   "source": [
    "import pandas as pd\n",
    "import numpy as np\n",
    "from bs4 import BeautifulSoup as bs\n",
    "import sqlite3\n",
    "from datetime import date\n",
    "from datetime import datetime as dt\n",
    "import hashlib\n",
    "import sys\n",
    "import os\n",
    "import locale\n",
    "import re\n",
    "import requests as rq\n",
    "from contextlib import contextmanager\n",
    "\n",
    "project_dir = '/home/mi/Dropbox/prog/python/tradeDB'\n",
    "os.chdir(project_dir)\n",
    "\n",
    "from importlib import reload\n",
    "from workers import sql\n",
    "from workers import api_stooq\n",
    "from workers.common import read_json\n",
    "from workers.common import get_cookie\n",
    "import tradeDB"
   ]
  },
  {
   "cell_type": "code",
   "execution_count": 5,
   "metadata": {},
   "outputs": [],
   "source": [
    "SECTORS = {\n",
    "            \"INDEXES\": {\"file\": \"./assets/indexes.jsonc\"},\n",
    "            \"STOCK\": {\"file\": \"./assets/stock.jsonc\"},\n",
    "            \"ETF\": {\"file\": \"./assets/etf.jsonc\"},\n",
    "            \"COMODITIES\": {\"file\": \"./assets/comodities.jsonc\"},\n",
    "        }\n",
    "for k in SECTORS:\n",
    "    SECTORS[k][\"data\"] = read_json(\n",
    "        SECTORS[k][\"file\"]\n",
    "    )"
   ]
  },
  {
   "cell_type": "code",
   "execution_count": 26,
   "metadata": {},
   "outputs": [],
   "source": [
    "dat=pd.read_csv(\"./dev/WIG20.csv\")\n",
    "tab = \"STOCK\"\n",
    "db = './trader.sqlite'\n",
    "dat['indexes'] = 'WIG20'\n",
    "symbol=dat.loc[0,'indexes']"
   ]
  },
  {
   "cell_type": "code",
   "execution_count": 27,
   "metadata": {},
   "outputs": [
    {
     "name": "stdout",
     "output_type": "stream",
     "text": [
      "PRAGMA foreign_keys = ON\n",
      "pragma table_info(INDEXES_DESC)\n",
      "PRAGMA foreign_keys = ON\n",
      "SELECT hash FROM INDEXES_DESC WHERE symbol LIKE 'WIG20' OR symbol LIKE 'none'\n"
     ]
    }
   ],
   "source": [
    "reload(sql)\n",
    "hash = sql.get(db_file=db,\n",
    "tab='INDEXES_DESC',\n",
    "get='hash',\n",
    "search=[symbol],\n",
    "cols=['symbol'])['symbol'].iloc[0,0]\n"
   ]
  },
  {
   "cell_type": "code",
   "execution_count": 28,
   "metadata": {},
   "outputs": [
    {
     "name": "stdout",
     "output_type": "stream",
     "text": [
      "PRAGMA foreign_keys = ON\n",
      "INSERT OR REPLACE INTO COMPONENTS ('stock_hash', 'indexes_hash')\n",
      "            VALUES ('bf66636c7010aa2b3611165c364fac17', '2952a90cace6a3b84a9d12cc9e0c3d04')\n",
      "        \n",
      "INSERT OR REPLACE INTO COMPONENTS ('stock_hash', 'indexes_hash')\n",
      "            VALUES ('81e72552fe1dca121c25c8e83cc53c49', '2952a90cace6a3b84a9d12cc9e0c3d04')\n",
      "        \n",
      "INSERT OR REPLACE INTO COMPONENTS ('stock_hash', 'indexes_hash')\n",
      "            VALUES ('44af9bc1768f43992d2284da28b03738', '2952a90cace6a3b84a9d12cc9e0c3d04')\n",
      "        \n",
      "INSERT OR REPLACE INTO COMPONENTS ('stock_hash', 'indexes_hash')\n",
      "            VALUES ('b263eda51983feabe090a9a11f13fe4d', '2952a90cace6a3b84a9d12cc9e0c3d04')\n",
      "        \n",
      "INSERT OR REPLACE INTO COMPONENTS ('stock_hash', 'indexes_hash')\n",
      "            VALUES ('0fedeccaf3d740fedec223ea72c1aa20', '2952a90cace6a3b84a9d12cc9e0c3d04')\n",
      "        \n",
      "INSERT OR REPLACE INTO COMPONENTS ('stock_hash', 'indexes_hash')\n",
      "            VALUES ('b2af1a6920faa8b01d129712b146c1ed', '2952a90cace6a3b84a9d12cc9e0c3d04')\n",
      "        \n",
      "INSERT OR REPLACE INTO COMPONENTS ('stock_hash', 'indexes_hash')\n",
      "            VALUES ('d39f06f94b143236a70481655eed5e52', '2952a90cace6a3b84a9d12cc9e0c3d04')\n",
      "        \n",
      "INSERT OR REPLACE INTO COMPONENTS ('stock_hash', 'indexes_hash')\n",
      "            VALUES ('ba7c40134b5d54b8d0ad86aeb9ae8043', '2952a90cace6a3b84a9d12cc9e0c3d04')\n",
      "        \n",
      "INSERT OR REPLACE INTO COMPONENTS ('stock_hash', 'indexes_hash')\n",
      "            VALUES ('24b0c5cea875ec019eda3409c13881e5', '2952a90cace6a3b84a9d12cc9e0c3d04')\n",
      "        \n",
      "INSERT OR REPLACE INTO COMPONENTS ('stock_hash', 'indexes_hash')\n",
      "            VALUES ('0647b7c8a8d0c3ae8f6de8ea65ee5d8f', '2952a90cace6a3b84a9d12cc9e0c3d04')\n",
      "        \n",
      "INSERT OR REPLACE INTO COMPONENTS ('stock_hash', 'indexes_hash')\n",
      "            VALUES ('73454f6bc038148629b5149c7cbb1a40', '2952a90cace6a3b84a9d12cc9e0c3d04')\n",
      "        \n",
      "INSERT OR REPLACE INTO COMPONENTS ('stock_hash', 'indexes_hash')\n",
      "            VALUES ('bf7d52237b4b366023a486e6aac1e467', '2952a90cace6a3b84a9d12cc9e0c3d04')\n",
      "        \n",
      "INSERT OR REPLACE INTO COMPONENTS ('stock_hash', 'indexes_hash')\n",
      "            VALUES ('77c150f88523a95827a2c43bf7bc6d9a', '2952a90cace6a3b84a9d12cc9e0c3d04')\n",
      "        \n",
      "INSERT OR REPLACE INTO COMPONENTS ('stock_hash', 'indexes_hash')\n",
      "            VALUES ('8de5e19e4daf3d346d3b8d29fb9daf41', '2952a90cace6a3b84a9d12cc9e0c3d04')\n",
      "        \n",
      "INSERT OR REPLACE INTO COMPONENTS ('stock_hash', 'indexes_hash')\n",
      "            VALUES ('978d219c87967c8bf9246124e80c950a', '2952a90cace6a3b84a9d12cc9e0c3d04')\n",
      "        \n",
      "INSERT OR REPLACE INTO COMPONENTS ('stock_hash', 'indexes_hash')\n",
      "            VALUES ('01db3e96061002285f73dd3fb64f813a', '2952a90cace6a3b84a9d12cc9e0c3d04')\n",
      "        \n",
      "INSERT OR REPLACE INTO COMPONENTS ('stock_hash', 'indexes_hash')\n",
      "            VALUES ('a199b12223ac994a754aef0ce1b846f0', '2952a90cace6a3b84a9d12cc9e0c3d04')\n",
      "        \n",
      "INSERT OR REPLACE INTO COMPONENTS ('stock_hash', 'indexes_hash')\n",
      "            VALUES ('73f2cbde5a958223616df504f2ac46bf', '2952a90cace6a3b84a9d12cc9e0c3d04')\n",
      "        \n",
      "INSERT OR REPLACE INTO COMPONENTS ('stock_hash', 'indexes_hash')\n",
      "            VALUES ('fa1c9c4ab327c279b6d5a4dd7afceb80', '2952a90cace6a3b84a9d12cc9e0c3d04')\n",
      "        \n",
      "INSERT OR REPLACE INTO COMPONENTS ('stock_hash', 'indexes_hash')\n",
      "            VALUES ('a8f279858586470e58cb32aea8c5e80e', '2952a90cace6a3b84a9d12cc9e0c3d04')\n",
      "        \n"
     ]
    }
   ],
   "source": [
    "components = pd.DataFrame({'stock_hash':dat['hash'],\n",
    "'indexes_hash':hash})\n",
    "resp = sql.write_table(dat=components, tab=\"COMPONENTS\", db_file=db)"
   ]
  },
  {
   "cell_type": "code",
   "execution_count": 42,
   "metadata": {},
   "outputs": [
    {
     "name": "stdout",
     "output_type": "stream",
     "text": [
      "PRAGMA foreign_keys = ON\n",
      "SELECT\n",
      "            s.symbol\n",
      "        FROM\n",
      "            STOCK_DESC s\n",
      "        INNER JOIN INDEXES_DESC i ON i.hash=c.indexes_hash\n",
      "        INNER JOIN COMPONENTS c on s.hash = c.stock_hash\n",
      "            WHERE i.symbol LIKE '%'\n",
      "    \n"
     ]
    }
   ],
   "source": [
    "cmd = \"\"\"SELECT\n",
    "            s.symbol\n",
    "        FROM\n",
    "            STOCK_DESC s\n",
    "        INNER JOIN INDEXES_DESC i ON i.hash=c.indexes_hash\n",
    "        INNER JOIN COMPONENTS c on s.hash = c.stock_hash\n",
    "            WHERE i.symbol LIKE '%'\n",
    "    \"\"\"\n",
    "resp = sql.execute_sql([cmd], db_file=db)"
   ]
  },
  {
   "cell_type": "code",
   "execution_count": 43,
   "metadata": {},
   "outputs": [
    {
     "data": {
      "text/html": [
       "<div>\n",
       "<style scoped>\n",
       "    .dataframe tbody tr th:only-of-type {\n",
       "        vertical-align: middle;\n",
       "    }\n",
       "\n",
       "    .dataframe tbody tr th {\n",
       "        vertical-align: top;\n",
       "    }\n",
       "\n",
       "    .dataframe thead th {\n",
       "        text-align: right;\n",
       "    }\n",
       "</style>\n",
       "<table border=\"1\" class=\"dataframe\">\n",
       "  <thead>\n",
       "    <tr style=\"text-align: right;\">\n",
       "      <th></th>\n",
       "      <th>symbol</th>\n",
       "    </tr>\n",
       "  </thead>\n",
       "  <tbody>\n",
       "    <tr>\n",
       "      <th>0</th>\n",
       "      <td>AACG.US</td>\n",
       "    </tr>\n",
       "    <tr>\n",
       "      <th>1</th>\n",
       "      <td>AACI.US</td>\n",
       "    </tr>\n",
       "    <tr>\n",
       "      <th>2</th>\n",
       "      <td>AADI.US</td>\n",
       "    </tr>\n",
       "    <tr>\n",
       "      <th>3</th>\n",
       "      <td>AAL.US</td>\n",
       "    </tr>\n",
       "    <tr>\n",
       "      <th>4</th>\n",
       "      <td>AAME.US</td>\n",
       "    </tr>\n",
       "    <tr>\n",
       "      <th>...</th>\n",
       "      <td>...</td>\n",
       "    </tr>\n",
       "    <tr>\n",
       "      <th>3203</th>\n",
       "      <td>PGE</td>\n",
       "    </tr>\n",
       "    <tr>\n",
       "      <th>3204</th>\n",
       "      <td>PKN</td>\n",
       "    </tr>\n",
       "    <tr>\n",
       "      <th>3205</th>\n",
       "      <td>PKO</td>\n",
       "    </tr>\n",
       "    <tr>\n",
       "      <th>3206</th>\n",
       "      <td>PZU</td>\n",
       "    </tr>\n",
       "    <tr>\n",
       "      <th>3207</th>\n",
       "      <td>SPL</td>\n",
       "    </tr>\n",
       "  </tbody>\n",
       "</table>\n",
       "<p>3208 rows × 1 columns</p>\n",
       "</div>"
      ],
      "text/plain": [
       "       symbol\n",
       "0     AACG.US\n",
       "1     AACI.US\n",
       "2     AADI.US\n",
       "3      AAL.US\n",
       "4     AAME.US\n",
       "...       ...\n",
       "3203      PGE\n",
       "3204      PKN\n",
       "3205      PKO\n",
       "3206      PZU\n",
       "3207      SPL\n",
       "\n",
       "[3208 rows x 1 columns]"
      ]
     },
     "execution_count": 43,
     "metadata": {},
     "output_type": "execute_result"
    }
   ],
   "source": [
    "resp[cmd]"
   ]
  }
 ],
 "metadata": {
  "kernelspec": {
   "display_name": "Python 3.8.13 ('tradeDB')",
   "language": "python",
   "name": "python3"
  },
  "language_info": {
   "codemirror_mode": {
    "name": "ipython",
    "version": 3
   },
   "file_extension": ".py",
   "mimetype": "text/x-python",
   "name": "python",
   "nbconvert_exporter": "python",
   "pygments_lexer": "ipython3",
   "version": "3.8.13"
  },
  "orig_nbformat": 4,
  "vscode": {
   "interpreter": {
    "hash": "a345eaf6868bd42279d78f9802485f449238ee74a5b4ca967b83541dc183f6da"
   }
  }
 },
 "nbformat": 4,
 "nbformat_minor": 2
}
