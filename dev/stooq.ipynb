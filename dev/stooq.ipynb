{
 "cells": [
  {
   "cell_type": "code",
   "execution_count": 33,
   "metadata": {},
   "outputs": [],
   "source": [
    "import pandas as pd\n",
    "import sqlite3\n",
    "from datetime import datetime as dt\n",
    "import hashlib\n",
    "import sys\n",
    "import os\n",
    "from pathlib import Path\n",
    "file = Path(os.getcwd()).resolve()\n",
    "parent = file.parent\n",
    "sys.path.append(str(parent))\n",
    "\n",
    "from workers import sql_stooq as sql\n"
   ]
  },
  {
   "cell_type": "code",
   "execution_count": 34,
   "metadata": {},
   "outputs": [],
   "source": [
    "dat=pd.read_csv(\"tab3.csv\")\n",
    "tab = \"INDEXES\"\n",
    "db_file = '../stooq2.sqlite'\n",
    "dat['tab']=tab"
   ]
  },
  {
   "cell_type": "code",
   "execution_count": 35,
   "metadata": {},
   "outputs": [],
   "source": [
    "dat[\"HASH\"] = [\n",
    "        hashlib.md5(\"\".join(r).encode(\"utf-8\")).hexdigest()\n",
    "        for r in dat.loc[:, [\"symbol\", \"name\", \"tab\"]].to_records(index=False)\n",
    "    ]\n",
    "dat.drop(columns=['tab'], inplace=True)"
   ]
  },
  {
   "cell_type": "code",
   "execution_count": 63,
   "metadata": {},
   "outputs": [],
   "source": [
    "dat_desc = dat.groupby(['HASH','symbol','name'], group_keys=False).apply(lambda x: x)\n",
    "dat_desc['from_date']=dat.groupby('HASH')['date'].min().to_list()\n",
    "dat_desc['end_date']=dat.groupby('HASH')['date'].max().to_list()\n",
    "dat_desc.drop(columns='date', inplace=True)"
   ]
  },
  {
   "cell_type": "code",
   "execution_count": 64,
   "metadata": {},
   "outputs": [
    {
     "data": {
      "text/html": [
       "<div>\n",
       "<style scoped>\n",
       "    .dataframe tbody tr th:only-of-type {\n",
       "        vertical-align: middle;\n",
       "    }\n",
       "\n",
       "    .dataframe tbody tr th {\n",
       "        vertical-align: top;\n",
       "    }\n",
       "\n",
       "    .dataframe thead th {\n",
       "        text-align: right;\n",
       "    }\n",
       "</style>\n",
       "<table border=\"1\" class=\"dataframe\">\n",
       "  <thead>\n",
       "    <tr style=\"text-align: right;\">\n",
       "      <th></th>\n",
       "      <th>symbol</th>\n",
       "      <th>name</th>\n",
       "      <th>val</th>\n",
       "      <th>HASH</th>\n",
       "      <th>from_date</th>\n",
       "      <th>end_date</th>\n",
       "    </tr>\n",
       "  </thead>\n",
       "  <tbody>\n",
       "    <tr>\n",
       "      <th>0</th>\n",
       "      <td>^AOR</td>\n",
       "      <td>ALL ORDINARIES INDEX - AUSTRALIA</td>\n",
       "      <td>7665.200</td>\n",
       "      <td>54d6670e3cc445ff967dba78949c8387</td>\n",
       "      <td>2023-02-09</td>\n",
       "      <td>2023-02-09</td>\n",
       "    </tr>\n",
       "    <tr>\n",
       "      <th>1</th>\n",
       "      <td>^HSI</td>\n",
       "      <td>HANG SENG INDEX - HONG KONG</td>\n",
       "      <td>21624.360</td>\n",
       "      <td>688dbc45deafc4d824c793612c921cda</td>\n",
       "      <td>2023-02-09</td>\n",
       "      <td>2023-02-09</td>\n",
       "    </tr>\n",
       "    <tr>\n",
       "      <th>2</th>\n",
       "      <td>^JCI</td>\n",
       "      <td>JAKARTA COMPOSITE INDEX - INDONESIA</td>\n",
       "      <td>6897.370</td>\n",
       "      <td>749e72892680634099072597bf6259fd</td>\n",
       "      <td>2023-02-09</td>\n",
       "      <td>2023-02-09</td>\n",
       "    </tr>\n",
       "    <tr>\n",
       "      <th>3</th>\n",
       "      <td>^KLCI</td>\n",
       "      <td>KUALA LUMPUR COMPOSITE INDEX - MALAYSIA</td>\n",
       "      <td>1464.640</td>\n",
       "      <td>b2d4472ebac1583210ff3190b64dee07</td>\n",
       "      <td>2023-02-10</td>\n",
       "      <td>2023-02-10</td>\n",
       "    </tr>\n",
       "    <tr>\n",
       "      <th>4</th>\n",
       "      <td>^KOSPI</td>\n",
       "      <td>KOSPI INDEX - SOUTH KOREA</td>\n",
       "      <td>2481.520</td>\n",
       "      <td>361a858db5c45f8388dc4e4ea0392a18</td>\n",
       "      <td>2023-02-09</td>\n",
       "      <td>2023-02-09</td>\n",
       "    </tr>\n",
       "    <tr>\n",
       "      <th>5</th>\n",
       "      <td>^NKX</td>\n",
       "      <td>NIKKEI 225 - JAPAN</td>\n",
       "      <td>27584.350</td>\n",
       "      <td>0c2145dd1be5ecaf2ce247384f78e315</td>\n",
       "      <td>2023-02-09</td>\n",
       "      <td>2023-02-09</td>\n",
       "    </tr>\n",
       "    <tr>\n",
       "      <th>6</th>\n",
       "      <td>^NZ50</td>\n",
       "      <td>NZX 50 - NEW ZEALAND</td>\n",
       "      <td>12151.480</td>\n",
       "      <td>e0a4491db249e6adb29fe4135d1461b6</td>\n",
       "      <td>2023-02-09</td>\n",
       "      <td>2023-02-09</td>\n",
       "    </tr>\n",
       "    <tr>\n",
       "      <th>7</th>\n",
       "      <td>^PSEI</td>\n",
       "      <td>PSEI INDEX - PHILIPPINES</td>\n",
       "      <td>6878.250</td>\n",
       "      <td>3344a7604d48ebbc41c406e1606aeb7b</td>\n",
       "      <td>2023-02-09</td>\n",
       "      <td>2023-02-09</td>\n",
       "    </tr>\n",
       "    <tr>\n",
       "      <th>8</th>\n",
       "      <td>^SET</td>\n",
       "      <td>SET INDEX - THAILAND</td>\n",
       "      <td>1669.170</td>\n",
       "      <td>89c4a8b3eeba7b8f8b13da3cf79867e0</td>\n",
       "      <td>2023-02-09</td>\n",
       "      <td>2023-02-09</td>\n",
       "    </tr>\n",
       "    <tr>\n",
       "      <th>9</th>\n",
       "      <td>^SHBS</td>\n",
       "      <td>SHANGHAI B-SHARE INDEX - CHINA</td>\n",
       "      <td>296.097</td>\n",
       "      <td>9ededeb148d18ad95a0343510a4456c4</td>\n",
       "      <td>2023-02-09</td>\n",
       "      <td>2023-02-09</td>\n",
       "    </tr>\n",
       "    <tr>\n",
       "      <th>10</th>\n",
       "      <td>^SHC</td>\n",
       "      <td>SHANGHAI COMPOSITE INDEX - CHINA</td>\n",
       "      <td>3270.383</td>\n",
       "      <td>9a190f2a96e7952291e56da0632f146c</td>\n",
       "      <td>2023-02-09</td>\n",
       "      <td>2023-02-09</td>\n",
       "    </tr>\n",
       "    <tr>\n",
       "      <th>11</th>\n",
       "      <td>^SNX</td>\n",
       "      <td>SENSEX 30 INDEX - INDIA</td>\n",
       "      <td>60806.220</td>\n",
       "      <td>904e91b390aad66aaf9c8c0bbe0cf6d8</td>\n",
       "      <td>2023-02-09</td>\n",
       "      <td>2023-02-09</td>\n",
       "    </tr>\n",
       "    <tr>\n",
       "      <th>12</th>\n",
       "      <td>^STI</td>\n",
       "      <td>STRAITS TIMES INDEX - SINGAPORE</td>\n",
       "      <td>3359.480</td>\n",
       "      <td>b45dbb2480235c072436b83ddd1d328b</td>\n",
       "      <td>2023-02-09</td>\n",
       "      <td>2023-02-09</td>\n",
       "    </tr>\n",
       "    <tr>\n",
       "      <th>13</th>\n",
       "      <td>^TWSE</td>\n",
       "      <td>TAIEX INDEX - TAIWAN</td>\n",
       "      <td>15598.710</td>\n",
       "      <td>efa1369345c122890247b6e8db41fb75</td>\n",
       "      <td>2023-02-09</td>\n",
       "      <td>2023-02-09</td>\n",
       "    </tr>\n",
       "  </tbody>\n",
       "</table>\n",
       "</div>"
      ],
      "text/plain": [
       "    symbol                                     name        val  \\\n",
       "0     ^AOR         ALL ORDINARIES INDEX - AUSTRALIA   7665.200   \n",
       "1     ^HSI              HANG SENG INDEX - HONG KONG  21624.360   \n",
       "2     ^JCI      JAKARTA COMPOSITE INDEX - INDONESIA   6897.370   \n",
       "3    ^KLCI  KUALA LUMPUR COMPOSITE INDEX - MALAYSIA   1464.640   \n",
       "4   ^KOSPI                KOSPI INDEX - SOUTH KOREA   2481.520   \n",
       "5     ^NKX                       NIKKEI 225 - JAPAN  27584.350   \n",
       "6    ^NZ50                     NZX 50 - NEW ZEALAND  12151.480   \n",
       "7    ^PSEI                 PSEI INDEX - PHILIPPINES   6878.250   \n",
       "8     ^SET                     SET INDEX - THAILAND   1669.170   \n",
       "9    ^SHBS           SHANGHAI B-SHARE INDEX - CHINA    296.097   \n",
       "10    ^SHC         SHANGHAI COMPOSITE INDEX - CHINA   3270.383   \n",
       "11    ^SNX                  SENSEX 30 INDEX - INDIA  60806.220   \n",
       "12    ^STI          STRAITS TIMES INDEX - SINGAPORE   3359.480   \n",
       "13   ^TWSE                     TAIEX INDEX - TAIWAN  15598.710   \n",
       "\n",
       "                                HASH   from_date    end_date  \n",
       "0   54d6670e3cc445ff967dba78949c8387  2023-02-09  2023-02-09  \n",
       "1   688dbc45deafc4d824c793612c921cda  2023-02-09  2023-02-09  \n",
       "2   749e72892680634099072597bf6259fd  2023-02-09  2023-02-09  \n",
       "3   b2d4472ebac1583210ff3190b64dee07  2023-02-10  2023-02-10  \n",
       "4   361a858db5c45f8388dc4e4ea0392a18  2023-02-09  2023-02-09  \n",
       "5   0c2145dd1be5ecaf2ce247384f78e315  2023-02-09  2023-02-09  \n",
       "6   e0a4491db249e6adb29fe4135d1461b6  2023-02-09  2023-02-09  \n",
       "7   3344a7604d48ebbc41c406e1606aeb7b  2023-02-09  2023-02-09  \n",
       "8   89c4a8b3eeba7b8f8b13da3cf79867e0  2023-02-09  2023-02-09  \n",
       "9   9ededeb148d18ad95a0343510a4456c4  2023-02-09  2023-02-09  \n",
       "10  9a190f2a96e7952291e56da0632f146c  2023-02-09  2023-02-09  \n",
       "11  904e91b390aad66aaf9c8c0bbe0cf6d8  2023-02-09  2023-02-09  \n",
       "12  b45dbb2480235c072436b83ddd1d328b  2023-02-09  2023-02-09  \n",
       "13  efa1369345c122890247b6e8db41fb75  2023-02-09  2023-02-09  "
      ]
     },
     "execution_count": 64,
     "metadata": {},
     "output_type": "execute_result"
    }
   ],
   "source": [
    "dat_desc"
   ]
  },
  {
   "cell_type": "code",
   "execution_count": 4,
   "metadata": {},
   "outputs": [],
   "source": [
    "sql_columns = sql.tab_columns(tab,db_file)\n",
    "match_columns = [col in sql_columns for col in dat.columns]\n",
    "if not all(match_columns):\n",
    "    print(f\"Not known column {list(dat.columns[[not c for c in match_columns]])} in table. Can not write to sql.\")"
   ]
  },
  {
   "cell_type": "code",
   "execution_count": 5,
   "metadata": {},
   "outputs": [],
   "source": [
    "records = list(dat.astype('string').to_records(index=False, column_dtypes=pd.StringDtype))"
   ]
  },
  {
   "cell_type": "code",
   "execution_count": 6,
   "metadata": {},
   "outputs": [],
   "source": [
    "cmd=[f\"\"\"INSERT OR REPLACE INTO {tab} {tuple(dat.columns)}\n",
    "VALUES {values_list}\n",
    "\"\"\" for values_list in records]"
   ]
  },
  {
   "cell_type": "code",
   "execution_count": 13,
   "metadata": {},
   "outputs": [
    {
     "data": {
      "text/plain": [
       "{}"
      ]
     },
     "execution_count": 13,
     "metadata": {},
     "output_type": "execute_result"
    }
   ],
   "source": [
    "sql.execute_sql([\"PRAGMA foreign_keys = ON\"], db_file)"
   ]
  },
  {
   "cell_type": "code",
   "execution_count": 30,
   "metadata": {},
   "outputs": [
    {
     "data": {
      "text/plain": [
       "{'PRAGMA foreign_keys':    foreign_keys\n",
       " 0             0}"
      ]
     },
     "execution_count": 30,
     "metadata": {},
     "output_type": "execute_result"
    }
   ],
   "source": [
    "sql.execute_sql([\"PRAGMA foreign_keys\"], db_file)\n"
   ]
  },
  {
   "cell_type": "code",
   "execution_count": 29,
   "metadata": {},
   "outputs": [
    {
     "data": {
      "text/plain": [
       "[(1,)]"
      ]
     },
     "execution_count": 29,
     "metadata": {},
     "output_type": "execute_result"
    }
   ],
   "source": [
    "con = sqlite3.connect(\n",
    "            db_file, \n",
    "            detect_types=sqlite3.PARSE_COLNAMES | sqlite3.PARSE_DECLTYPES\n",
    "        )\n",
    "cur = con.cursor()\n",
    "con.execute(\"PRAGMA foreign_keys = ON\")\n",
    "con.commit()\n",
    "cur.execute('PRAGMA foreign_keys')\n",
    "c=cur.fetchall()\n",
    "con.close()\n",
    "c"
   ]
  },
  {
   "cell_type": "code",
   "execution_count": 23,
   "metadata": {},
   "outputs": [],
   "source": [
    "con = sqlite3.connect(\n",
    "            db_file, \n",
    "            detect_types=sqlite3.PARSE_COLNAMES | sqlite3.PARSE_DECLTYPES\n",
    "        )\n",
    "cur = con.cursor()\n",
    "cur.execute(\"PRAGMA foreign_keys = ON\")\n",
    "con.commit()\n",
    "cur.execute('CREATE TABLE INDEXES(HASH TEXT, symbol TEXT, name TEXT, vol INTEGER, val INTEGER, date TIMESTAMP, FOREIGN KEY(HASH) REFERENCES INDEXES_DESC(HASH))')\n",
    "con.commit()\n",
    "con.close()"
   ]
  },
  {
   "cell_type": "code",
   "execution_count": 26,
   "metadata": {},
   "outputs": [],
   "source": [
    "con = sqlite3.connect(\n",
    "            db_file, \n",
    "            detect_types=sqlite3.PARSE_COLNAMES | sqlite3.PARSE_DECLTYPES\n",
    "        )\n",
    "cur = con.cursor()\n",
    "cur.execute(cmd[1])\n",
    "con.commit()\n",
    "con.close()\n"
   ]
  },
  {
   "cell_type": "code",
   "execution_count": 41,
   "metadata": {},
   "outputs": [
    {
     "data": {
      "text/plain": [
       "[('ALL ORDINARIES INDEX - AUSTRALIA',),\n",
       " ('ALL ORDINARIES INDEX - AUSTRALIA',),\n",
       " ('HANG SENG INDEX - HONG KONG',),\n",
       " ('TAIEX INDEX - TAIWAN',)]"
      ]
     },
     "execution_count": 41,
     "metadata": {},
     "output_type": "execute_result"
    }
   ],
   "source": [
    "con = sqlite3.connect(\n",
    "            db_file, \n",
    "            detect_types=sqlite3.PARSE_COLNAMES | sqlite3.PARSE_DECLTYPES\n",
    "        )\n",
    "cur = con.cursor()\n",
    "cur.execute(cmd[-1])\n",
    "cur.execute(\"SELECT name FROM INDEXES\")\n",
    "cur.fetchall()\n"
   ]
  },
  {
   "cell_type": "code",
   "execution_count": 43,
   "metadata": {},
   "outputs": [],
   "source": [
    "con.commit()"
   ]
  }
 ],
 "metadata": {
  "kernelspec": {
   "display_name": "Python 3.8.13 ('tradeDB')",
   "language": "python",
   "name": "python3"
  },
  "language_info": {
   "codemirror_mode": {
    "name": "ipython",
    "version": 3
   },
   "file_extension": ".py",
   "mimetype": "text/x-python",
   "name": "python",
   "nbconvert_exporter": "python",
   "pygments_lexer": "ipython3",
   "version": "3.8.13"
  },
  "orig_nbformat": 4,
  "vscode": {
   "interpreter": {
    "hash": "a345eaf6868bd42279d78f9802485f449238ee74a5b4ca967b83541dc183f6da"
   }
  }
 },
 "nbformat": 4,
 "nbformat_minor": 2
}
