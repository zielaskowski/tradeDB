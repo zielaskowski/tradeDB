{
 "cells": [
  {
   "cell_type": "code",
   "execution_count": 18,
   "metadata": {},
   "outputs": [],
   "source": [
    "import pandas as pd\n",
    "import numpy as np\n",
    "from bs4 import BeautifulSoup as bs\n",
    "import sqlite3\n",
    "from datetime import date\n",
    "from datetime import datetime as dt\n",
    "import hashlib\n",
    "import sys\n",
    "import os\n",
    "import locale\n",
    "import re\n",
    "import requests as rq\n",
    "import wbdata as wb\n",
    "from contextlib import contextmanager\n",
    "import pytz\n",
    "from datetime import timedelta\n",
    "from currency_converter import CurrencyConverter\n",
    "cc=CurrencyConverter()\n",
    "\n",
    "project_dir = '/home/mi/Dropbox/prog/python/tradeDB'\n",
    "os.chdir(project_dir)\n",
    "\n",
    "from importlib import reload\n",
    "from workers import sql\n",
    "from workers import api\n",
    "from workers.common import read_json, hash_table\n",
    "import tradeDB"
   ]
  },
  {
   "cell_type": "code",
   "execution_count": 2,
   "metadata": {},
   "outputs": [],
   "source": [
    "SECTORS = {\n",
    "            \"INDEXES\": {\"file\": \"./assets/indexes.jsonc\"},\n",
    "            \"STOCK\": {\"file\": \"./assets/stock.jsonc\"},\n",
    "            \"ETF\": {\"file\": \"./assets/etf.jsonc\"},\n",
    "            \"COMODITIES\": {\"file\": \"./assets/comodities.jsonc\"},\n",
    "        }\n",
    "for k in SECTORS:\n",
    "    SECTORS[k][\"data\"] = read_json( # type: ignore\n",
    "        SECTORS[k][\"file\"]\n",
    "    )"
   ]
  },
  {
   "cell_type": "code",
   "execution_count": 3,
   "metadata": {},
   "outputs": [],
   "source": [
    "trade= tradeDB.Trader()\n",
    "db_file = trade.db"
   ]
  },
  {
   "cell_type": "code",
   "execution_count": 4,
   "metadata": {},
   "outputs": [
    {
     "data": {
      "text/plain": [
       "<module 'workers.sql' from '/home/mi/Dropbox/prog/python/tradeDB/workers/sql.py'>"
      ]
     },
     "execution_count": 4,
     "metadata": {},
     "output_type": "execute_result"
    }
   ],
   "source": [
    "reload(sql)"
   ]
  },
  {
   "cell_type": "code",
   "execution_count": 21,
   "metadata": {},
   "outputs": [],
   "source": [
    "cur=sql.get(db_file=db_file,tab=\"GEO\",get=['currency_code'],search=['%'],cols=['currency_code'])\n",
    "cur=cur['currency_code']['currency_code'].to_list()\n"
   ]
  },
  {
   "cell_type": "code",
   "execution_count": 23,
   "metadata": {},
   "outputs": [
    {
     "data": {
      "text/plain": [
       "94.8856627763545"
      ]
     },
     "execution_count": 23,
     "metadata": {},
     "output_type": "execute_result"
    }
   ],
   "source": [
    "cc.convert(100,'USD')"
   ]
  },
  {
   "cell_type": "code",
   "execution_count": 26,
   "metadata": {},
   "outputs": [
    {
     "data": {
      "text/plain": [
       "dict_keys(['USD', 'JPY', 'BGN', 'CZK', 'DKK', 'GBP', 'HUF', 'PLN', 'RON', 'SEK', 'CHF', 'ISK', 'NOK', 'TRY', 'AUD', 'BRL', 'CAD', 'CNY', 'HKD', 'IDR', 'ILS', 'INR', 'KRW', 'MXN', 'MYR', 'NZD', 'PHP', 'SGD', 'THB', 'ZAR', 'HRK', 'RUB', 'LTL', 'LVL', 'EEK', 'SKK', 'CYP', 'MTL', 'SIT', 'ROL', 'TRL'])"
      ]
     },
     "execution_count": 26,
     "metadata": {},
     "output_type": "execute_result"
    }
   ],
   "source": [
    "cc._rates.keys()\n"
   ]
  },
  {
   "cell_type": "code",
   "execution_count": 30,
   "metadata": {},
   "outputs": [],
   "source": [
    "import pandasdmx as sdmx\n",
    "ecb=sdmx.Request('ECB')"
   ]
  },
  {
   "cell_type": "code",
   "execution_count": 40,
   "metadata": {},
   "outputs": [],
   "source": [
    "cur=ecb.dataflow('EXR').dataflow.EXR.structure.dimensions.components"
   ]
  },
  {
   "cell_type": "code",
   "execution_count": 48,
   "metadata": {},
   "outputs": [],
   "source": [
    "exr=sdmx.to_pandas(cur[1].local_representation.enumerated).index.to_list()"
   ]
  },
  {
   "cell_type": "code",
   "execution_count": null,
   "metadata": {},
   "outputs": [],
   "source": [
    "[]"
   ]
  }
 ],
 "metadata": {
  "kernelspec": {
   "display_name": "Python 3.8.13 ('tradeDB')",
   "language": "python",
   "name": "python3"
  },
  "language_info": {
   "codemirror_mode": {
    "name": "ipython",
    "version": 3
   },
   "file_extension": ".py",
   "mimetype": "text/x-python",
   "name": "python",
   "nbconvert_exporter": "python",
   "pygments_lexer": "ipython3",
   "version": "2.7.18"
  },
  "orig_nbformat": 4,
  "vscode": {
   "interpreter": {
    "hash": "a345eaf6868bd42279d78f9802485f449238ee74a5b4ca967b83541dc183f6da"
   }
  }
 },
 "nbformat": 4,
 "nbformat_minor": 2
}
