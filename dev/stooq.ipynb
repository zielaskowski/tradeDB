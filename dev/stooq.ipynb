{
 "cells": [
  {
   "cell_type": "code",
   "execution_count": 2,
   "metadata": {},
   "outputs": [],
   "source": [
    "import pandas as pd\n",
    "import numpy as np\n",
    "from bs4 import BeautifulSoup as bs\n",
    "import sqlite3\n",
    "from datetime import date\n",
    "from datetime import datetime as dt\n",
    "import hashlib\n",
    "import sys\n",
    "import os\n",
    "import locale\n",
    "import re\n",
    "import requests as rq\n",
    "import wbdata as wb\n",
    "from contextlib import contextmanager\n",
    "import pytz\n",
    "from datetime import timedelta\n",
    "\n",
    "project_dir = '/home/mi/Dropbox/prog/python/tradeDB'\n",
    "os.chdir(project_dir)\n",
    "\n",
    "from importlib import reload\n",
    "from workers import sql\n",
    "from workers import api_stooq\n",
    "from workers.common import read_json\n",
    "from workers.common import get_cookie\n",
    "import tradeDB"
   ]
  },
  {
   "cell_type": "code",
   "execution_count": 3,
   "metadata": {},
   "outputs": [],
   "source": [
    "SECTORS = {\n",
    "            \"INDEXES\": {\"file\": \"./assets/indexes.jsonc\"},\n",
    "            \"STOCK\": {\"file\": \"./assets/stock.jsonc\"},\n",
    "            \"ETF\": {\"file\": \"./assets/etf.jsonc\"},\n",
    "            \"COMODITIES\": {\"file\": \"./assets/comodities.jsonc\"},\n",
    "        }\n",
    "for k in SECTORS:\n",
    "    SECTORS[k][\"data\"] = read_json( # type: ignore\n",
    "        SECTORS[k][\"file\"]\n",
    "    )"
   ]
  },
  {
   "cell_type": "code",
   "execution_count": 4,
   "metadata": {},
   "outputs": [],
   "source": [
    "dat=pd.read_csv(\"./dev/long_dates.txt\")\n",
    "tab = \"STOCK\"\n",
    "db = './trader.sqlite'\n",
    "dat['indexes'] = 'WIG20'\n",
    "symbol=dat.loc[0,'indexes']"
   ]
  },
  {
   "cell_type": "code",
   "execution_count": 14,
   "metadata": {},
   "outputs": [],
   "source": [
    "trade= tradeDB.Trader()"
   ]
  },
  {
   "cell_type": "code",
   "execution_count": 60,
   "metadata": {},
   "outputs": [
    {
     "data": {
      "text/html": [
       "<div>\n",
       "<style scoped>\n",
       "    .dataframe tbody tr th:only-of-type {\n",
       "        vertical-align: middle;\n",
       "    }\n",
       "\n",
       "    .dataframe tbody tr th {\n",
       "        vertical-align: top;\n",
       "    }\n",
       "\n",
       "    .dataframe thead th {\n",
       "        text-align: right;\n",
       "    }\n",
       "</style>\n",
       "<table border=\"1\" class=\"dataframe\">\n",
       "  <thead>\n",
       "    <tr style=\"text-align: right;\">\n",
       "      <th></th>\n",
       "      <th>0</th>\n",
       "      <th>1</th>\n",
       "      <th>2</th>\n",
       "      <th>3</th>\n",
       "      <th>4</th>\n",
       "      <th>5</th>\n",
       "      <th>6</th>\n",
       "      <th>7</th>\n",
       "    </tr>\n",
       "  </thead>\n",
       "  <tbody>\n",
       "    <tr>\n",
       "      <th>0</th>\n",
       "      <td>c969ae6fb5a7dc0226fc05c00769da0f</td>\n",
       "      <td>^KOSPI</td>\n",
       "      <td>KOSPI</td>\n",
       "      <td>KR</td>\n",
       "      <td>NaN</td>\n",
       "      <td>NaN</td>\n",
       "      <td>2023-03-27 00:00:00</td>\n",
       "      <td>2023-03-27 00:00:00</td>\n",
       "    </tr>\n",
       "    <tr>\n",
       "      <th>1</th>\n",
       "      <td>40384e26d189cdf2be512a55bab5166d</td>\n",
       "      <td>^NKX</td>\n",
       "      <td>NIKKEI 225</td>\n",
       "      <td>JP</td>\n",
       "      <td>NaN</td>\n",
       "      <td>NaN</td>\n",
       "      <td>2023-03-27 00:00:00</td>\n",
       "      <td>2023-03-27 00:00:00</td>\n",
       "    </tr>\n",
       "    <tr>\n",
       "      <th>2</th>\n",
       "      <td>e89c035fca88d7bbfa271e43a8c98dbf</td>\n",
       "      <td>^NZ50</td>\n",
       "      <td>NZX 50</td>\n",
       "      <td>NZ</td>\n",
       "      <td>NaN</td>\n",
       "      <td>NaN</td>\n",
       "      <td>2023-03-28 00:15:00</td>\n",
       "      <td>2023-03-28 00:15:00</td>\n",
       "    </tr>\n",
       "    <tr>\n",
       "      <th>3</th>\n",
       "      <td>eb0bba47d1e86aa9f8f2f1d2fed0eddf</td>\n",
       "      <td>^PSEI</td>\n",
       "      <td>PSEI</td>\n",
       "      <td>PH</td>\n",
       "      <td>NaN</td>\n",
       "      <td>NaN</td>\n",
       "      <td>2023-03-27 00:00:00</td>\n",
       "      <td>2023-03-27 00:00:00</td>\n",
       "    </tr>\n",
       "    <tr>\n",
       "      <th>4</th>\n",
       "      <td>446c0273531f939770986c7e709ab95e</td>\n",
       "      <td>^SET</td>\n",
       "      <td>SET</td>\n",
       "      <td>TH</td>\n",
       "      <td>NaN</td>\n",
       "      <td>NaN</td>\n",
       "      <td>2023-03-27 00:00:00</td>\n",
       "      <td>2023-03-27 00:00:00</td>\n",
       "    </tr>\n",
       "    <tr>\n",
       "      <th>5</th>\n",
       "      <td>326255747a51575ef0892d301a8abf85</td>\n",
       "      <td>^SHBS</td>\n",
       "      <td>SHANGHAI B-SHARE</td>\n",
       "      <td>CN</td>\n",
       "      <td>NaN</td>\n",
       "      <td>NaN</td>\n",
       "      <td>2023-03-27 00:00:00</td>\n",
       "      <td>2023-03-27 00:00:00</td>\n",
       "    </tr>\n",
       "    <tr>\n",
       "      <th>6</th>\n",
       "      <td>3695c91615f9a346cdae757d96024d15</td>\n",
       "      <td>^SHC</td>\n",
       "      <td>SHANGHAI COMPOSITE</td>\n",
       "      <td>CN</td>\n",
       "      <td>NaN</td>\n",
       "      <td>NaN</td>\n",
       "      <td>2023-03-27 00:00:00</td>\n",
       "      <td>2023-03-27 00:00:00</td>\n",
       "    </tr>\n",
       "    <tr>\n",
       "      <th>7</th>\n",
       "      <td>8e0463793d39a5a45297ed02dcfc9767</td>\n",
       "      <td>^SNX</td>\n",
       "      <td>SENSEX 30</td>\n",
       "      <td>IN</td>\n",
       "      <td>NaN</td>\n",
       "      <td>NaN</td>\n",
       "      <td>2023-03-27 00:00:00</td>\n",
       "      <td>2023-03-27 00:00:00</td>\n",
       "    </tr>\n",
       "    <tr>\n",
       "      <th>8</th>\n",
       "      <td>5f57aa25ca0d5047d31a1c0d189899f8</td>\n",
       "      <td>^STI</td>\n",
       "      <td>STRAITS TIMES</td>\n",
       "      <td>SG</td>\n",
       "      <td>NaN</td>\n",
       "      <td>NaN</td>\n",
       "      <td>2023-03-27 00:00:00</td>\n",
       "      <td>2023-03-27 00:00:00</td>\n",
       "    </tr>\n",
       "    <tr>\n",
       "      <th>9</th>\n",
       "      <td>ae978476e86613a07aadc3bfdba0b6ac</td>\n",
       "      <td>^TWSE</td>\n",
       "      <td>TAIEX</td>\n",
       "      <td>TW</td>\n",
       "      <td>NaN</td>\n",
       "      <td>NaN</td>\n",
       "      <td>2023-03-27 00:00:00</td>\n",
       "      <td>2023-03-27 00:00:00</td>\n",
       "    </tr>\n",
       "  </tbody>\n",
       "</table>\n",
       "</div>"
      ],
      "text/plain": [
       "                                  0       1                   2   3   4   5  \\\n",
       "0  c969ae6fb5a7dc0226fc05c00769da0f  ^KOSPI               KOSPI  KR NaN NaN   \n",
       "1  40384e26d189cdf2be512a55bab5166d    ^NKX          NIKKEI 225  JP NaN NaN   \n",
       "2  e89c035fca88d7bbfa271e43a8c98dbf   ^NZ50              NZX 50  NZ NaN NaN   \n",
       "3  eb0bba47d1e86aa9f8f2f1d2fed0eddf   ^PSEI                PSEI  PH NaN NaN   \n",
       "4  446c0273531f939770986c7e709ab95e    ^SET                 SET  TH NaN NaN   \n",
       "5  326255747a51575ef0892d301a8abf85   ^SHBS    SHANGHAI B-SHARE  CN NaN NaN   \n",
       "6  3695c91615f9a346cdae757d96024d15    ^SHC  SHANGHAI COMPOSITE  CN NaN NaN   \n",
       "7  8e0463793d39a5a45297ed02dcfc9767    ^SNX           SENSEX 30  IN NaN NaN   \n",
       "8  5f57aa25ca0d5047d31a1c0d189899f8    ^STI       STRAITS TIMES  SG NaN NaN   \n",
       "9  ae978476e86613a07aadc3bfdba0b6ac   ^TWSE               TAIEX  TW NaN NaN   \n",
       "\n",
       "                    6                   7  \n",
       "0 2023-03-27 00:00:00 2023-03-27 00:00:00  \n",
       "1 2023-03-27 00:00:00 2023-03-27 00:00:00  \n",
       "2 2023-03-28 00:15:00 2023-03-28 00:15:00  \n",
       "3 2023-03-27 00:00:00 2023-03-27 00:00:00  \n",
       "4 2023-03-27 00:00:00 2023-03-27 00:00:00  \n",
       "5 2023-03-27 00:00:00 2023-03-27 00:00:00  \n",
       "6 2023-03-27 00:00:00 2023-03-27 00:00:00  \n",
       "7 2023-03-27 00:00:00 2023-03-27 00:00:00  \n",
       "8 2023-03-27 00:00:00 2023-03-27 00:00:00  \n",
       "9 2023-03-27 00:00:00 2023-03-27 00:00:00  "
      ]
     },
     "execution_count": 60,
     "metadata": {},
     "output_type": "execute_result"
    }
   ],
   "source": [
    "dat = pd.read_csv(\"./dev/long_dates.txt\",\n",
    "                  sep='\\t',\n",
    "                  header=None)\n",
    "dat[6]=pd.to_datetime(dat.iloc[:,6])\n",
    "dat[7]=pd.to_datetime(dat.iloc[:,7])\n",
    "dat\n"
   ]
  },
  {
   "cell_type": "code",
   "execution_count": 63,
   "metadata": {},
   "outputs": [
    {
     "data": {
      "text/html": [
       "<div>\n",
       "<style scoped>\n",
       "    .dataframe tbody tr th:only-of-type {\n",
       "        vertical-align: middle;\n",
       "    }\n",
       "\n",
       "    .dataframe tbody tr th {\n",
       "        vertical-align: top;\n",
       "    }\n",
       "\n",
       "    .dataframe thead th {\n",
       "        text-align: right;\n",
       "    }\n",
       "</style>\n",
       "<table border=\"1\" class=\"dataframe\">\n",
       "  <thead>\n",
       "    <tr style=\"text-align: right;\">\n",
       "      <th></th>\n",
       "      <th>0</th>\n",
       "      <th>1</th>\n",
       "      <th>2</th>\n",
       "      <th>3</th>\n",
       "      <th>4</th>\n",
       "      <th>5</th>\n",
       "      <th>6</th>\n",
       "      <th>7</th>\n",
       "    </tr>\n",
       "  </thead>\n",
       "  <tbody>\n",
       "    <tr>\n",
       "      <th>0</th>\n",
       "      <td>c969ae6fb5a7dc0226fc05c00769da0f</td>\n",
       "      <td>^KOSPI</td>\n",
       "      <td>KOSPI</td>\n",
       "      <td>KR</td>\n",
       "      <td>NaN</td>\n",
       "      <td>NaN</td>\n",
       "      <td>2023-03-27</td>\n",
       "      <td>2023-03-27</td>\n",
       "    </tr>\n",
       "    <tr>\n",
       "      <th>1</th>\n",
       "      <td>40384e26d189cdf2be512a55bab5166d</td>\n",
       "      <td>^NKX</td>\n",
       "      <td>NIKKEI 225</td>\n",
       "      <td>JP</td>\n",
       "      <td>NaN</td>\n",
       "      <td>NaN</td>\n",
       "      <td>2023-03-27</td>\n",
       "      <td>2023-03-27</td>\n",
       "    </tr>\n",
       "    <tr>\n",
       "      <th>2</th>\n",
       "      <td>e89c035fca88d7bbfa271e43a8c98dbf</td>\n",
       "      <td>^NZ50</td>\n",
       "      <td>NZX 50</td>\n",
       "      <td>NZ</td>\n",
       "      <td>NaN</td>\n",
       "      <td>NaN</td>\n",
       "      <td>2023-03-28</td>\n",
       "      <td>2023-03-28</td>\n",
       "    </tr>\n",
       "    <tr>\n",
       "      <th>3</th>\n",
       "      <td>eb0bba47d1e86aa9f8f2f1d2fed0eddf</td>\n",
       "      <td>^PSEI</td>\n",
       "      <td>PSEI</td>\n",
       "      <td>PH</td>\n",
       "      <td>NaN</td>\n",
       "      <td>NaN</td>\n",
       "      <td>2023-03-27</td>\n",
       "      <td>2023-03-27</td>\n",
       "    </tr>\n",
       "    <tr>\n",
       "      <th>4</th>\n",
       "      <td>446c0273531f939770986c7e709ab95e</td>\n",
       "      <td>^SET</td>\n",
       "      <td>SET</td>\n",
       "      <td>TH</td>\n",
       "      <td>NaN</td>\n",
       "      <td>NaN</td>\n",
       "      <td>2023-03-27</td>\n",
       "      <td>2023-03-27</td>\n",
       "    </tr>\n",
       "    <tr>\n",
       "      <th>5</th>\n",
       "      <td>326255747a51575ef0892d301a8abf85</td>\n",
       "      <td>^SHBS</td>\n",
       "      <td>SHANGHAI B-SHARE</td>\n",
       "      <td>CN</td>\n",
       "      <td>NaN</td>\n",
       "      <td>NaN</td>\n",
       "      <td>2023-03-27</td>\n",
       "      <td>2023-03-27</td>\n",
       "    </tr>\n",
       "    <tr>\n",
       "      <th>6</th>\n",
       "      <td>3695c91615f9a346cdae757d96024d15</td>\n",
       "      <td>^SHC</td>\n",
       "      <td>SHANGHAI COMPOSITE</td>\n",
       "      <td>CN</td>\n",
       "      <td>NaN</td>\n",
       "      <td>NaN</td>\n",
       "      <td>2023-03-27</td>\n",
       "      <td>2023-03-27</td>\n",
       "    </tr>\n",
       "    <tr>\n",
       "      <th>7</th>\n",
       "      <td>8e0463793d39a5a45297ed02dcfc9767</td>\n",
       "      <td>^SNX</td>\n",
       "      <td>SENSEX 30</td>\n",
       "      <td>IN</td>\n",
       "      <td>NaN</td>\n",
       "      <td>NaN</td>\n",
       "      <td>2023-03-27</td>\n",
       "      <td>2023-03-27</td>\n",
       "    </tr>\n",
       "    <tr>\n",
       "      <th>8</th>\n",
       "      <td>5f57aa25ca0d5047d31a1c0d189899f8</td>\n",
       "      <td>^STI</td>\n",
       "      <td>STRAITS TIMES</td>\n",
       "      <td>SG</td>\n",
       "      <td>NaN</td>\n",
       "      <td>NaN</td>\n",
       "      <td>2023-03-27</td>\n",
       "      <td>2023-03-27</td>\n",
       "    </tr>\n",
       "    <tr>\n",
       "      <th>9</th>\n",
       "      <td>ae978476e86613a07aadc3bfdba0b6ac</td>\n",
       "      <td>^TWSE</td>\n",
       "      <td>TAIEX</td>\n",
       "      <td>TW</td>\n",
       "      <td>NaN</td>\n",
       "      <td>NaN</td>\n",
       "      <td>2023-03-27</td>\n",
       "      <td>2023-03-27</td>\n",
       "    </tr>\n",
       "  </tbody>\n",
       "</table>\n",
       "</div>"
      ],
      "text/plain": [
       "                                  0       1                   2   3   4   5  \\\n",
       "0  c969ae6fb5a7dc0226fc05c00769da0f  ^KOSPI               KOSPI  KR NaN NaN   \n",
       "1  40384e26d189cdf2be512a55bab5166d    ^NKX          NIKKEI 225  JP NaN NaN   \n",
       "2  e89c035fca88d7bbfa271e43a8c98dbf   ^NZ50              NZX 50  NZ NaN NaN   \n",
       "3  eb0bba47d1e86aa9f8f2f1d2fed0eddf   ^PSEI                PSEI  PH NaN NaN   \n",
       "4  446c0273531f939770986c7e709ab95e    ^SET                 SET  TH NaN NaN   \n",
       "5  326255747a51575ef0892d301a8abf85   ^SHBS    SHANGHAI B-SHARE  CN NaN NaN   \n",
       "6  3695c91615f9a346cdae757d96024d15    ^SHC  SHANGHAI COMPOSITE  CN NaN NaN   \n",
       "7  8e0463793d39a5a45297ed02dcfc9767    ^SNX           SENSEX 30  IN NaN NaN   \n",
       "8  5f57aa25ca0d5047d31a1c0d189899f8    ^STI       STRAITS TIMES  SG NaN NaN   \n",
       "9  ae978476e86613a07aadc3bfdba0b6ac   ^TWSE               TAIEX  TW NaN NaN   \n",
       "\n",
       "            6           7  \n",
       "0  2023-03-27  2023-03-27  \n",
       "1  2023-03-27  2023-03-27  \n",
       "2  2023-03-28  2023-03-28  \n",
       "3  2023-03-27  2023-03-27  \n",
       "4  2023-03-27  2023-03-27  \n",
       "5  2023-03-27  2023-03-27  \n",
       "6  2023-03-27  2023-03-27  \n",
       "7  2023-03-27  2023-03-27  \n",
       "8  2023-03-27  2023-03-27  \n",
       "9  2023-03-27  2023-03-27  "
      ]
     },
     "execution_count": 63,
     "metadata": {},
     "output_type": "execute_result"
    }
   ],
   "source": [
    "dat.apply(lambda series: [dt.strftime(x,format=\"%Y-%m-%d\") for x in series]  # type: ignore\n",
    "                    if pd.api.types.is_datetime64_dtype(series) else series)"
   ]
  },
  {
   "cell_type": "code",
   "execution_count": 54,
   "metadata": {},
   "outputs": [
    {
     "data": {
      "text/plain": [
       "0   2023-03-27 00:00:00\n",
       "1   2023-03-27 00:00:00\n",
       "2   2023-03-28 00:15:00\n",
       "3   2023-03-27 00:00:00\n",
       "4   2023-03-27 00:00:00\n",
       "5   2023-03-27 00:00:00\n",
       "6   2023-03-27 00:00:00\n",
       "7   2023-03-27 00:00:00\n",
       "8   2023-03-27 00:00:00\n",
       "9   2023-03-27 00:00:00\n",
       "Name: 6, dtype: datetime64[ns]"
      ]
     },
     "execution_count": 54,
     "metadata": {},
     "output_type": "execute_result"
    }
   ],
   "source": [
    "pd.to_datetime(dat[6],format=\"%d\",errors='raise')"
   ]
  },
  {
   "cell_type": "code",
   "execution_count": 118,
   "metadata": {},
   "outputs": [],
   "source": [
    "reload(api_stooq)\n",
    "symbol='USDPLN'\n",
    "from_date=dt.today() -timedelta(1)\n",
    "end_date = dt.today()-timedelta(1)\n",
    "from_dateS, end_dateS = api_stooq.__str_date__(from_date, end_date)\n",
    "url = f\"https://stooq.com/q/d/?s={symbol}&d1={from_dateS}&d2={end_dateS}\"\n",
    "#data = api_stooq.__take_page__(url)"
   ]
  },
  {
   "cell_type": "code",
   "execution_count": 119,
   "metadata": {},
   "outputs": [
    {
     "data": {
      "text/plain": [
       "'https://stooq.com/q/d/?s=USDPLN&d1=20230317&d2=20230317'"
      ]
     },
     "execution_count": 119,
     "metadata": {},
     "output_type": "execute_result"
    }
   ],
   "source": [
    "url"
   ]
  },
  {
   "cell_type": "code",
   "execution_count": 77,
   "metadata": {},
   "outputs": [],
   "source": [
    "from_date=dt.today()\n",
    "end_date = dt.today()\n",
    "from_date = from_date.astimezone(pytz.timezone('Canada/Mountain'))\n",
    "from_date -= timedelta(1)\n",
    "from_dateS = dt.strftime(from_date, '%Y%m%d')\n",
    "end_date = end_date.astimezone(pytz.timezone('Canada/Mountain'))"
   ]
  },
  {
   "cell_type": "code",
   "execution_count": 74,
   "metadata": {},
   "outputs": [],
   "source": [
    "if end_date > from_date:\n",
    "    end_date = from_date\n",
    "end_dateS = dt.strftime(end_date, '%Y%m%d')"
   ]
  },
  {
   "cell_type": "code",
   "execution_count": 110,
   "metadata": {},
   "outputs": [
    {
     "data": {
      "text/plain": [
       "1"
      ]
     },
     "execution_count": 110,
     "metadata": {},
     "output_type": "execute_result"
    }
   ],
   "source": [
    "max(1,(dt(2023,3,17).weekday()+6) % 7 -3)"
   ]
  },
  {
   "cell_type": "code",
   "execution_count": 115,
   "metadata": {},
   "outputs": [
    {
     "data": {
      "text/plain": [
       "1"
      ]
     },
     "execution_count": 115,
     "metadata": {},
     "output_type": "execute_result"
    }
   ],
   "source": [
    "8%7"
   ]
  },
  {
   "cell_type": "markdown",
   "metadata": {},
   "source": [
    "Su-6-2\n",
    "Mo-0-3\n",
    "Tu-1-0"
   ]
  },
  {
   "cell_type": "code",
   "execution_count": 76,
   "metadata": {},
   "outputs": [
    {
     "data": {
      "text/plain": [
       "datetime.datetime(2023, 3, 20, 14, 24, 12, 12692, tzinfo=<DstTzInfo 'Canada/Mountain' MDT-1 day, 18:00:00 DST>)"
      ]
     },
     "execution_count": 76,
     "metadata": {},
     "output_type": "execute_result"
    }
   ],
   "source": [
    "end_date"
   ]
  },
  {
   "cell_type": "code",
   "execution_count": 78,
   "metadata": {},
   "outputs": [
    {
     "data": {
      "text/plain": [
       "True"
      ]
     },
     "execution_count": 78,
     "metadata": {},
     "output_type": "execute_result"
    }
   ],
   "source": [
    "end_date > from_date"
   ]
  },
  {
   "cell_type": "code",
   "execution_count": 123,
   "metadata": {},
   "outputs": [
    {
     "data": {
      "text/plain": [
       "True"
      ]
     },
     "execution_count": 123,
     "metadata": {},
     "output_type": "execute_result"
    }
   ],
   "source": [
    "pd.DataFrame().empty"
   ]
  }
 ],
 "metadata": {
  "kernelspec": {
   "display_name": "Python 3.8.13 ('tradeDB')",
   "language": "python",
   "name": "python3"
  },
  "language_info": {
   "codemirror_mode": {
    "name": "ipython",
    "version": 3
   },
   "file_extension": ".py",
   "mimetype": "text/x-python",
   "name": "python",
   "nbconvert_exporter": "python",
   "pygments_lexer": "ipython3",
   "version": "3.8.13"
  },
  "orig_nbformat": 4,
  "vscode": {
   "interpreter": {
    "hash": "a345eaf6868bd42279d78f9802485f449238ee74a5b4ca967b83541dc183f6da"
   }
  }
 },
 "nbformat": 4,
 "nbformat_minor": 2
}
