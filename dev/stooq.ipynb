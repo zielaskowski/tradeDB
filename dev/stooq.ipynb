{
 "cells": [
  {
   "cell_type": "code",
   "execution_count": 1,
   "metadata": {},
   "outputs": [],
   "source": [
    "import pandas as pd\n",
    "import sqlite3\n",
    "from datetime import datetime as dt\n",
    "import hashlib\n",
    "import sys\n",
    "import os\n",
    "import re\n",
    "from pathlib import Path\n",
    "file = Path(os.getcwd()).resolve()\n",
    "parent = file.parent\n",
    "sys.path.append(str(parent))\n",
    "from importlib import reload\n",
    "from workers import sql"
   ]
  },
  {
   "cell_type": "code",
   "execution_count": 2,
   "metadata": {},
   "outputs": [],
   "source": [
    "dat=pd.read_csv(\"tab3.csv\")\n",
    "tab = \"INDEXES\"\n",
    "db_file = '../trader.sqlite'"
   ]
  },
  {
   "cell_type": "code",
   "execution_count": 88,
   "metadata": {},
   "outputs": [],
   "source": [
    "countries = sql.get_sql(tab=\"GEO\",\n",
    "                        get=\"country\",\n",
    "                        search=[\"%\"],\n",
    "                        cols=['country'],\n",
    "                        db_file=db_file)['country']['country']\n",
    "names = dat['name']"
   ]
  },
  {
   "cell_type": "code",
   "execution_count": 3,
   "metadata": {},
   "outputs": [],
   "source": [
    "names = dat['name']"
   ]
  },
  {
   "cell_type": "code",
   "execution_count": 4,
   "metadata": {},
   "outputs": [],
   "source": [
    "split = [re.split(' - ',n) for n in names]"
   ]
  },
  {
   "cell_type": "code",
   "execution_count": 5,
   "metadata": {},
   "outputs": [],
   "source": [
    "name_short = [s[0] for s in split]\n",
    "name_country = [s[1] for s in split]"
   ]
  },
  {
   "cell_type": "code",
   "execution_count": 22,
   "metadata": {},
   "outputs": [
    {
     "data": {
      "text/plain": [
       "''"
      ]
     },
     "execution_count": 22,
     "metadata": {},
     "output_type": "execute_result"
    }
   ],
   "source": [
    "a=pd.DataFrame([''])\n",
    "a.loc[0,0]"
   ]
  },
  {
   "cell_type": "code",
   "execution_count": 8,
   "metadata": {},
   "outputs": [
    {
     "data": {
      "text/plain": [
       "['ALL ORDINARIES',\n",
       " 'HANG SENG',\n",
       " 'JAKARTA COMPOSITE',\n",
       " 'KUALA LUMPUR COMPOSITE',\n",
       " 'KOSPI',\n",
       " 'NIKKEI 225',\n",
       " 'NZX 50',\n",
       " 'PSEI',\n",
       " 'SET',\n",
       " 'SHANGHAI B-SHARE',\n",
       " 'SHANGHAI COMPOSITE',\n",
       " 'SENSEX 30',\n",
       " 'STRAITS TIMES',\n",
       " 'TAIEX']"
      ]
     },
     "execution_count": 8,
     "metadata": {},
     "output_type": "execute_result"
    }
   ],
   "source": [
    "[re.sub(r'INDEX','',n).strip() for n in name_short]"
   ]
  },
  {
   "cell_type": "code",
   "execution_count": 90,
   "metadata": {},
   "outputs": [],
   "source": [
    "#simplify countries - special cases\n",
    "#name_country = [re.sub(r\",.*$\", \"\", c) for c in countries]\n",
    "#name_country = [re.sub(r\"\\(.*$\", \"\", c) for c in name_country]\n",
    "name_country = [re.sub(r'SOUTH KOREA',r'KOREA, REP.',c) for c in name_country]"
   ]
  },
  {
   "cell_type": "code",
   "execution_count": 91,
   "metadata": {},
   "outputs": [],
   "source": [
    "match = [re.search(c, r'-'.join(countries)) for c in name_country]"
   ]
  },
  {
   "cell_type": "code",
   "execution_count": 92,
   "metadata": {},
   "outputs": [],
   "source": [
    "for i in range(len(match)):\n",
    "    if not match[i]:\n",
    "        name_short[i] = names[i]\n",
    "        name_country[i] = ''"
   ]
  },
  {
   "cell_type": "code",
   "execution_count": 96,
   "metadata": {},
   "outputs": [
    {
     "data": {
      "text/plain": [
       "['AUSTRALIA',\n",
       " 'HONG KONG',\n",
       " 'INDONESIA',\n",
       " 'MALAYSIA',\n",
       " 'KOREA, REP.',\n",
       " 'JAPAN',\n",
       " 'NEW ZEALAND',\n",
       " 'PHILIPPINES',\n",
       " 'THAILAND',\n",
       " 'CHINA',\n",
       " 'CHINA',\n",
       " 'INDIA',\n",
       " 'SINGAPORE',\n",
       " 'TAIWAN']"
      ]
     },
     "execution_count": 96,
     "metadata": {},
     "output_type": "execute_result"
    }
   ],
   "source": [
    "name_country"
   ]
  },
  {
   "cell_type": "code",
   "execution_count": 119,
   "metadata": {},
   "outputs": [],
   "source": [
    "reload(sql)\n",
    "resp=[sql.geo(get=\"iso2\", search=[n+'%'], db_file=db_file) for n in name_country]"
   ]
  },
  {
   "cell_type": "code",
   "execution_count": 120,
   "metadata": {},
   "outputs": [],
   "source": [
    "iso2=[]\n",
    "for r in resp:\n",
    "    if not r:\n",
    "        iso2 +=['']\n",
    "    else:\n",
    "        iso2 +=[r['country']['iso2'].to_list()[0]]"
   ]
  },
  {
   "cell_type": "code",
   "execution_count": 121,
   "metadata": {},
   "outputs": [
    {
     "data": {
      "text/plain": [
       "['AU',\n",
       " 'HK',\n",
       " 'ID',\n",
       " 'MY',\n",
       " 'KR',\n",
       " 'JP',\n",
       " 'NZ',\n",
       " 'PH',\n",
       " 'TH',\n",
       " 'CN',\n",
       " 'CN',\n",
       " 'IN',\n",
       " 'SG',\n",
       " 'TW']"
      ]
     },
     "execution_count": 121,
     "metadata": {},
     "output_type": "execute_result"
    }
   ],
   "source": [
    "iso2"
   ]
  }
 ],
 "metadata": {
  "kernelspec": {
   "display_name": "Python 3.8.13 ('tradeDB')",
   "language": "python",
   "name": "python3"
  },
  "language_info": {
   "codemirror_mode": {
    "name": "ipython",
    "version": 3
   },
   "file_extension": ".py",
   "mimetype": "text/x-python",
   "name": "python",
   "nbconvert_exporter": "python",
   "pygments_lexer": "ipython3",
   "version": "3.8.13"
  },
  "orig_nbformat": 4,
  "vscode": {
   "interpreter": {
    "hash": "a345eaf6868bd42279d78f9802485f449238ee74a5b4ca967b83541dc183f6da"
   }
  }
 },
 "nbformat": 4,
 "nbformat_minor": 2
}
