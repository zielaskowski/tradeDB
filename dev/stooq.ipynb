{
 "cells": [
  {
   "cell_type": "code",
   "execution_count": 118,
   "metadata": {},
   "outputs": [],
   "source": [
    "import pandas as pd\n",
    "import numpy as np\n",
    "from bs4 import BeautifulSoup as bs\n",
    "import sqlite3\n",
    "from datetime import date\n",
    "from datetime import datetime as dt\n",
    "import hashlib\n",
    "import sys\n",
    "import os\n",
    "import locale\n",
    "import re\n",
    "import requests as rq\n",
    "import wbdata as wb\n",
    "from contextlib import contextmanager\n",
    "\n",
    "project_dir = '/home/mi/Dropbox/prog/python/tradeDB'\n",
    "os.chdir(project_dir)\n",
    "\n",
    "from importlib import reload\n",
    "from workers import sql\n",
    "from workers import api_stooq\n",
    "from workers.common import read_json\n",
    "from workers.common import get_cookie\n",
    "import tradeDB"
   ]
  },
  {
   "cell_type": "code",
   "execution_count": 2,
   "metadata": {},
   "outputs": [],
   "source": [
    "SECTORS = {\n",
    "            \"INDEXES\": {\"file\": \"./assets/indexes.jsonc\"},\n",
    "            \"STOCK\": {\"file\": \"./assets/stock.jsonc\"},\n",
    "            \"ETF\": {\"file\": \"./assets/etf.jsonc\"},\n",
    "            \"COMODITIES\": {\"file\": \"./assets/comodities.jsonc\"},\n",
    "        }\n",
    "for k in SECTORS:\n",
    "    SECTORS[k][\"data\"] = read_json( # type: ignore\n",
    "        SECTORS[k][\"file\"]\n",
    "    )"
   ]
  },
  {
   "cell_type": "code",
   "execution_count": 3,
   "metadata": {},
   "outputs": [],
   "source": [
    "dat=pd.read_csv(\"./dev/WIG20.csv\")\n",
    "tab = \"STOCK\"\n",
    "db = './trader.sqlite'\n",
    "dat['indexes'] = 'WIG20'\n",
    "symbol=dat.loc[0,'indexes']"
   ]
  },
  {
   "cell_type": "code",
   "execution_count": 4,
   "metadata": {},
   "outputs": [
    {
     "name": "stdout",
     "output_type": "stream",
     "text": [
      "PRAGMA foreign_keys = ON\n",
      "pragma table_info(GEO)\n",
      "PRAGMA foreign_keys = ON\n",
      "pragma table_info(INDEXES_DESC)\n",
      "PRAGMA foreign_keys = ON\n",
      "pragma table_info(INDEXES)\n",
      "PRAGMA foreign_keys = ON\n",
      "pragma table_info(ETF_DESC)\n",
      "PRAGMA foreign_keys = ON\n",
      "pragma table_info(ETF)\n",
      "PRAGMA foreign_keys = ON\n",
      "pragma table_info(COMODITIES_DESC)\n",
      "PRAGMA foreign_keys = ON\n",
      "pragma table_info(COMODITIES)\n",
      "PRAGMA foreign_keys = ON\n",
      "pragma table_info(STOCK)\n",
      "PRAGMA foreign_keys = ON\n",
      "pragma table_info(STOCK_DESC)\n",
      "PRAGMA foreign_keys = ON\n",
      "pragma table_info(COMPONENTS)\n",
      "PRAGMA foreign_keys = ON\n",
      "pragma table_info(CURRENCY)\n"
     ]
    }
   ],
   "source": [
    "trade= tradeDB.Trader()"
   ]
  },
  {
   "cell_type": "code",
   "execution_count": 111,
   "metadata": {},
   "outputs": [
    {
     "name": "stdout",
     "output_type": "stream",
     "text": [
      "PRAGMA foreign_keys = ON\n",
      "pragma table_info(GEO)\n",
      "PRAGMA foreign_keys = ON\n",
      "SELECT region FROM GEO WHERE region LIKE '%' OR region LIKE 'none'\n"
     ]
    }
   ],
   "source": [
    "opts = list(trade.SECTORS[tab][\"data\"].keys()) \n",
    "opts += sql.get(db_file=trade.db,\n",
    "                        tab='GEO',\n",
    "                        get=['region'],\n",
    "                        search=['%'],\n",
    "                        cols=['region'])['region']['region'].to_list()"
   ]
  },
  {
   "cell_type": "code",
   "execution_count": 102,
   "metadata": {},
   "outputs": [],
   "source": [
    "tab=\"INDEXES\"\n",
    "region='asia'\n",
    "country='china'\n",
    "symbol=''\n",
    "from_date=dt.today()\n",
    "end_date = dt.today()"
   ]
  },
  {
   "cell_type": "code",
   "execution_count": 115,
   "metadata": {},
   "outputs": [
    {
     "name": "stdout",
     "output_type": "stream",
     "text": [
      "PRAGMA foreign_keys = ON\n",
      "pragma table_info(GEO)\n",
      "PRAGMA foreign_keys = ON\n",
      "SELECT region FROM GEO WHERE region LIKE '%' OR region LIKE 'none'\n"
     ]
    }
   ],
   "source": [
    "opts = list(trade.SECTORS[tab][\"data\"].keys())  # type: ignore\n",
    "opts += sql.get(db_file=trade.db,\n",
    "                tab='GEO',\n",
    "                get=['region'],\n",
    "                search=['%'],\n",
    "                cols=['region'])['region']['region'].to_list()"
   ]
  },
  {
   "cell_type": "code",
   "execution_count": 131,
   "metadata": {},
   "outputs": [
    {
     "data": {
      "text/plain": [
       "{'CANADA',\n",
       " 'EAST ASIA & PACIFIC',\n",
       " 'EUROPE & CENTRAL ASIA',\n",
       " 'LATIN AMERICA & CARIBBEAN',\n",
       " 'LATIN AMERICA & CARIBBEAN ',\n",
       " 'MIDDLE EAST & NORTH AFRICA',\n",
       " 'NORTH AMERICA',\n",
       " 'SOUTH ASIA',\n",
       " 'SUB-SAHARAN AFRICA ',\n",
       " 'U.S.',\n",
       " 'U.S. Comodity',\n",
       " 'U.S. Main',\n",
       " 'U.S. Other',\n",
       " 'U.S. Sector',\n",
       " 'U.S. Volatility',\n",
       " 'UNKNOWN'}"
      ]
     },
     "execution_count": 131,
     "metadata": {},
     "output_type": "execute_result"
    }
   ],
   "source": [
    "set(opts)"
   ]
  }
 ],
 "metadata": {
  "kernelspec": {
   "display_name": "Python 3.8.13 ('tradeDB')",
   "language": "python",
   "name": "python3"
  },
  "language_info": {
   "codemirror_mode": {
    "name": "ipython",
    "version": 3
   },
   "file_extension": ".py",
   "mimetype": "text/x-python",
   "name": "python",
   "nbconvert_exporter": "python",
   "pygments_lexer": "ipython3",
   "version": "3.8.13"
  },
  "orig_nbformat": 4,
  "vscode": {
   "interpreter": {
    "hash": "a345eaf6868bd42279d78f9802485f449238ee74a5b4ca967b83541dc183f6da"
   }
  }
 },
 "nbformat": 4,
 "nbformat_minor": 2
}
