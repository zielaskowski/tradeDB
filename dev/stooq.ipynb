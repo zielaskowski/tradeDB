{
 "cells": [
  {
   "cell_type": "code",
   "execution_count": 1,
   "metadata": {},
   "outputs": [],
   "source": [
    "import pandas as pd\n",
    "import numpy as np\n",
    "from bs4 import BeautifulSoup as bs\n",
    "import sqlite3\n",
    "from datetime import date\n",
    "from datetime import datetime as dt\n",
    "import hashlib\n",
    "import sys\n",
    "import os\n",
    "import locale\n",
    "import re\n",
    "import requests as rq\n",
    "import wbdata as wb\n",
    "from contextlib import contextmanager\n",
    "import pytz\n",
    "from datetime import timedelta\n",
    "from currency_converter import CurrencyConverter\n",
    "cc=CurrencyConverter()\n",
    "\n",
    "project_dir = '/home/mi/Dropbox/prog/python/tradeDB'\n",
    "os.chdir(project_dir)\n",
    "\n",
    "from importlib import reload\n",
    "#from workers import sql\n",
    "#from workers import api\n",
    "#from workers.common import read_json, hash_table\n",
    "import tradeDB"
   ]
  },
  {
   "cell_type": "code",
   "execution_count": 2,
   "metadata": {},
   "outputs": [],
   "source": [
    "trader= tradeDB.Trader()\n"
   ]
  },
  {
   "cell_type": "code",
   "execution_count": 3,
   "metadata": {},
   "outputs": [
    {
     "name": "stdout",
     "output_type": "stream",
     "text": [
      "|⚠︎                                       | (!) 0/1 [0%] in 0.0s (0.00/s) \n",
      "         date     name   val\n",
      "0  2023-10-20  ALLEGRO  28.7\n"
     ]
    },
    {
     "data": {
      "text/plain": [
       "''"
      ]
     },
     "execution_count": 3,
     "metadata": {},
     "output_type": "execute_result"
    }
   ],
   "source": [
    "# when printing stock present in two indexes and columns=\"indexes\" excluded, are rows doubled?\n",
    "trader.get(tab='stock',symbol='ale',columns='name;val;date')"
   ]
  }
 ],
 "metadata": {
  "kernelspec": {
   "display_name": "Python 3.8.13 ('tradeDB')",
   "language": "python",
   "name": "python3"
  },
  "language_info": {
   "codemirror_mode": {
    "name": "ipython",
    "version": 3
   },
   "file_extension": ".py",
   "mimetype": "text/x-python",
   "name": "python",
   "nbconvert_exporter": "python",
   "pygments_lexer": "ipython3",
   "version": "3.11.5"
  },
  "orig_nbformat": 4,
  "vscode": {
   "interpreter": {
    "hash": "a345eaf6868bd42279d78f9802485f449238ee74a5b4ca967b83541dc183f6da"
   }
  }
 },
 "nbformat": 4,
 "nbformat_minor": 2
}
