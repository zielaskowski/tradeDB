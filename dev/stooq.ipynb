{
 "cells": [
  {
   "cell_type": "code",
   "execution_count": 1,
   "metadata": {},
   "outputs": [],
   "source": [
    "import pandas as pd\n",
    "from importlib.machinery import SourceFileLoader\n",
    "from datetime import datetime as dt\n",
    "import hashlib\n",
    "import sys\n",
    "import os\n",
    "from pathlib import Path\n",
    "file = Path(os.getcwd()).resolve()\n",
    "parent = file.parent\n",
    "sys.path.append(str(parent))\n",
    "\n",
    "from workers import sql_stooq as sql\n"
   ]
  },
  {
   "cell_type": "code",
   "execution_count": 2,
   "metadata": {},
   "outputs": [],
   "source": [
    "dat=pd.read_csv(\"tab3.csv\")\n",
    "tab = \"INDEXES\"\n",
    "db_file = '../stooq.sqlite'\n",
    "dat['tab']=tab"
   ]
  },
  {
   "cell_type": "code",
   "execution_count": 3,
   "metadata": {},
   "outputs": [],
   "source": [
    "dat[\"HASH\"] = [\n",
    "        hashlib.md5(\"\".join(r).encode(\"utf-8\")).hexdigest()\n",
    "        for r in dat.loc[:, [\"symbol\", \"name\", \"tab\"]].to_records(index=False)\n",
    "    ]\n",
    "dat.drop(columns=['tab'], inplace=True)"
   ]
  },
  {
   "cell_type": "code",
   "execution_count": 4,
   "metadata": {},
   "outputs": [],
   "source": [
    "sql_columns = sql.tab_columns(tab,db_file)\n",
    "match_columns = [col in sql_columns for col in dat.columns]\n",
    "if not all(match_columns):\n",
    "    print(f\"Not known column {list(dat.columns[[not c for c in match_columns]])} in table. Can not write to sql.\")"
   ]
  },
  {
   "cell_type": "code",
   "execution_count": 10,
   "metadata": {},
   "outputs": [],
   "source": [
    "\n",
    "records = list(dat.to_records(index=False, column_dtypes=pd.StringDtype))"
   ]
  },
  {
   "cell_type": "code",
   "execution_count": 6,
   "metadata": {},
   "outputs": [],
   "source": [
    "cmd=[f\"\"\"INSERT OR REPLACE INTO {tab} {tuple(dat.columns)}\n",
    "VALUES {values_list}\n",
    "\"\"\" for values_list in records]"
   ]
  }
 ],
 "metadata": {
  "kernelspec": {
   "display_name": "Python 3.6.15 64-bit ('ML': venv)",
   "language": "python",
   "name": "python3"
  },
  "language_info": {
   "codemirror_mode": {
    "name": "ipython",
    "version": 3
   },
   "file_extension": ".py",
   "mimetype": "text/x-python",
   "name": "python",
   "nbconvert_exporter": "python",
   "pygments_lexer": "ipython3",
   "version": "3.8.13"
  },
  "orig_nbformat": 4,
  "vscode": {
   "interpreter": {
    "hash": "0133724487053b2a4a2eca0e3462e0a7a4a3026a8d3666d4e0ef86c274c8a02d"
   }
  }
 },
 "nbformat": 4,
 "nbformat_minor": 2
}
