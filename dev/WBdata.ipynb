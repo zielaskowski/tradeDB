{
 "cells": [
  {
   "cell_type": "code",
   "execution_count": 3,
   "metadata": {},
   "outputs": [],
   "source": [
    "# docs: https://wbdata.readthedocs.io/en/stable/\n",
    "# data: https://data.worldbank.org/indicator\n",
    "import wbdata as wb\n",
    "\n",
    "# docs: https://geocoder.readthedocs.io/providers/GeoNames.html\n",
    "# data: https://www.geonames.org/countries/\n",
    "#import geocoder\n",
    "\n",
    "#import mpu\n",
    "import re\n",
    "import pandas as pd\n",
    "from datetime import date\n",
    "\n",
    "import sys\n",
    "import os\n",
    "from pathlib import Path\n",
    "file = Path(os.getcwd()).resolve()\n",
    "parent = file.parent\n",
    "sys.path.append(str(parent))\n",
    "\n",
    "from workers import common as cmn"
   ]
  },
  {
   "cell_type": "code",
   "execution_count": 5,
   "metadata": {},
   "outputs": [],
   "source": [
    "sql_scheme=cmn.read_json('../assets/sql_scheme.jsonc')"
   ]
  },
  {
   "cell_type": "code",
   "execution_count": 6,
   "metadata": {},
   "outputs": [],
   "source": [
    "c=wb.search_countries(\".*\")"
   ]
  },
  {
   "cell_type": "code",
   "execution_count": 7,
   "metadata": {},
   "outputs": [],
   "source": [
    "countries = [(g['iso2Code'], g['name'], g['region']['iso2code'],g['region']['value'])\n",
    "for g in c if g['region']['value'] != 'Aggregates']"
   ]
  },
  {
   "cell_type": "code",
   "execution_count": 12,
   "metadata": {},
   "outputs": [],
   "source": [
    "cur=pd.read_csv(\"../assets/currencies.csv\")\n",
    "cur = cur.loc[cur['withdrawal_date'].isna(),:]\n",
    "# some cleaning\n",
    "# replace '(abc)' with ', abc'\n",
    "cur[\"Entity\"]=cur[\"Entity\"].apply(lambda x: re.sub(\"\\\\s*\\(\",\", \",x))\n",
    "cur[\"Entity\"]=cur[\"Entity\"].apply(lambda x: re.sub(\"\\)$\",\"\",x))\n",
    "cur[\"Entity\"]=cur[\"Entity\"].apply(lambda x: re.sub(\"CAYMAN ISLANDS, THE\",\"CAYMAN ISLANDS\",x))\n",
    "cur[\"Entity\"]=cur[\"Entity\"].apply(lambda x: re.sub(\"ST.MARTIN, FRENCH PART\",\"ST.MARTIN (FRENCH PART)\",x))\n",
    "cur[\"Entity\"]=cur[\"Entity\"].apply(lambda x: re.sub(\"ST.MARTIN, FRENCH PART\",\"ST.MARTIN (FRENCH PART)\",x))\n"
   ]
  },
  {
   "cell_type": "code",
   "execution_count": 10,
   "metadata": {},
   "outputs": [],
   "source": [
    "con=pd.DataFrame(countries, columns=[\"iso2\",\"country\",\"iso2_region\",\"region\"])\n",
    "con = con.apply(lambda x: x.str.upper())"
   ]
  },
  {
   "cell_type": "code",
   "execution_count": 13,
   "metadata": {},
   "outputs": [],
   "source": [
    "geo = con.merge(right=cur,how=\"inner\",left_on=\"country\", right_on=\"Entity\")\n",
    "geo = geo[[\"iso2\",\"country\",\"iso2_region\",\"region\",\"currency\",\"code\",\"numeric_code\"]]\n",
    "geo['last_upd'] = date.today()"
   ]
  },
  {
   "cell_type": "code",
   "execution_count": 2,
   "metadata": {},
   "outputs": [
    {
     "data": {
      "text/plain": [
       "  id  name\n",
       "----  --------------------------------------------------------------------\n",
       "   1  Doing Business\n",
       "   2  World Development Indicators\n",
       "   3  Worldwide Governance Indicators\n",
       "   5  Subnational Malnutrition Database\n",
       "   6  International Debt Statistics\n",
       "  11  Africa Development Indicators\n",
       "  12  Education Statistics\n",
       "  13  Enterprise Surveys\n",
       "  14  Gender Statistics\n",
       "  15  Global Economic Monitor\n",
       "  16  Health Nutrition and Population Statistics\n",
       "  18  IDA Results Measurement System\n",
       "  19  Millennium Development Goals\n",
       "  20  Quarterly Public Sector Debt\n",
       "  22  Quarterly External Debt Statistics SDDS\n",
       "  23  Quarterly External Debt Statistics GDDS\n",
       "  25  Jobs\n",
       "  27  Global Economic Prospects\n",
       "  28  Global Financial Inclusion\n",
       "  29  The Atlas of Social Protection: Indicators of Resilience and Equity\n",
       "  30  Exporter Dynamics Database – Indicators at Country-Year Level\n",
       "  31  Country Policy and Institutional Assessment\n",
       "  32  Global Financial Development\n",
       "  33  G20 Financial Inclusion Indicators\n",
       "  34  Global Partnership for Education\n",
       "  35  Sustainable Energy for All\n",
       "  36  Statistical Capacity Indicators\n",
       "  37  LAC Equity Lab\n",
       "  38  Subnational Poverty\n",
       "  39  Health Nutrition and Population Statistics by Wealth Quintile\n",
       "  40  Population estimates and projections\n",
       "  41  Country Partnership Strategy for India (FY2013 - 17)\n",
       "  43  Adjusted Net Savings\n",
       "  45  Indonesia Database for Policy and Economic Research\n",
       "  46  Sustainable Development Goals\n",
       "  50  Subnational Population\n",
       "  54  Joint External Debt Hub\n",
       "  57  WDI Database Archives\n",
       "  58  Universal Health Coverage\n",
       "  59  Wealth Accounts\n",
       "  60  Economic Fitness\n",
       "  61  PPPs Regulatory Quality\n",
       "  62  International Comparison Program (ICP) 2011\n",
       "  63  Human Capital Index\n",
       "  64  Worldwide Bureaucracy Indicators\n",
       "  65  Health Equity and Financial Protection Indicators\n",
       "  66  Logistics Performance Index\n",
       "  67  PEFA 2011\n",
       "  68  PEFA 2016\n",
       "  69  Global Financial Inclusion and Consumer Protection Survey\n",
       "  70  Economic Fitness 2\n",
       "  71  International Comparison Program (ICP) 2005\n",
       "  73  Global Financial Inclusion and Consumer Protection Survey (Internal)\n",
       "  75  Environment, Social and Governance (ESG) Data\n",
       "  76  Remittance Prices Worldwide (Sending Countries)\n",
       "  77  Remittance Prices Worldwide (Receiving Countries)\n",
       "  78  ICP 2017\n",
       "  79  PEFA_GRPFM\n",
       "  80  Gender Disaggregated Labor Database (GDLD)\n",
       "  81  International Debt Statistics: DSSI\n",
       "  82  Global Public Procurement\n",
       "  83  Statistical Performance Indicators (SPI)\n",
       "  84  Education Policy\n",
       "  85  PEFA_2021_SNG\n",
       "  86  Global Jobs Indicators Database (JOIN)\n",
       "  87  Country Climate and Development Report (CCDR)\n",
       "  88  Food Prices for Nutrition\n",
       "  89  Identification for Development (ID4D) Data"
      ]
     },
     "execution_count": 2,
     "metadata": {},
     "output_type": "execute_result"
    }
   ],
   "source": [
    "wbdata.get_source()"
   ]
  },
  {
   "cell_type": "code",
   "execution_count": 43,
   "metadata": {},
   "outputs": [
    {
     "data": {
      "text/plain": [
       "  id  value\n",
       "----  -------------------------------\n",
       "   1  Agriculture & Rural Development\n",
       "   2  Aid Effectiveness\n",
       "   3  Economy & Growth\n",
       "   4  Education\n",
       "   5  Energy & Mining\n",
       "   6  Environment\n",
       "   7  Financial Sector\n",
       "   8  Health\n",
       "   9  Infrastructure\n",
       "  10  Social Protection & Labor\n",
       "  11  Poverty\n",
       "  12  Private Sector\n",
       "  13  Public Sector\n",
       "  14  Science & Technology\n",
       "  15  Social Development\n",
       "  16  Urban Development\n",
       "  17  Gender\n",
       "  18  Millenium development goals\n",
       "  19  Climate Change\n",
       "  20  External Debt\n",
       "  21  Trade"
      ]
     },
     "execution_count": 43,
     "metadata": {},
     "output_type": "execute_result"
    }
   ],
   "source": [
    "wbdata.get_topic()"
   ]
  },
  {
   "cell_type": "code",
   "execution_count": 84,
   "metadata": {},
   "outputs": [
    {
     "data": {
      "text/plain": [
       "id                 name\n",
       "-----------------  ----------------------------------------------------\n",
       "CM.MKT.TRAD.CD     Stocks traded, total value (current US$)\n",
       "CM.MKT.TRAD.GD.ZS  Stocks traded, total value (% of GDP)\n",
       "CM.MKT.TRNR        Stocks traded, turnover ratio of domestic shares (%)\n",
       "GFDD.AM.04         Investments financed by equity or stock sales (%)\n",
       "GFDD.DM.01         Stock market capitalization to GDP (%)\n",
       "GFDD.DM.02         Stock market total value traded to GDP (%)\n",
       "GFDD.EM.01         Stock market turnover ratio (%)\n",
       "GFDD.OM.02         Stock market return (%, year-on-year)\n",
       "GFDD.SM.01         Stock price volatility\n",
       "SM.POP.TOTL        International migrant stock, total\n",
       "SM.POP.TOTL.ZS     International migrant stock (% of population)"
      ]
     },
     "execution_count": 84,
     "metadata": {},
     "output_type": "execute_result"
    }
   ],
   "source": [
    "wb.search_indicators(query='stock', topic=7)"
   ]
  },
  {
   "cell_type": "code",
   "execution_count": 40,
   "metadata": {},
   "outputs": [
    {
     "data": {
      "text/plain": [
       "id                    name\n",
       "--------------------  ------------------------------------------------------------------------\n",
       "6.0.GDP_current       GDP (current $)\n",
       "6.0.GDP_growth        GDP growth (annual %)\n",
       "6.0.GDP_usd           GDP (constant 2005 $)\n",
       "6.0.GDPpc_constant    GDP per capita, PPP (constant 2011 international $)\n",
       "BG.GSR.NFSV.GD.ZS     Trade in services (% of GDP)\n",
       "BM.KLT.DINV.WD.GD.ZS  Foreign direct investment, net outflows (% of GDP)\n",
       "BN.CAB.XOKA.GD.ZS     Current account balance (% of GDP)\n",
       "BN.KLT.PRVT.GD.ZS     Private capital flows, total (% of GDP)\n",
       "BX.KLT.DINV.WD.GD.ZS  Foreign direct investment, net inflows (% of GDP)\n",
       "BX.TRF.PWKR.DT.GD.ZS  Personal remittances, received (% of GDP)\n",
       "GC.DOD.TOTL.GD.ZS     Central government debt, total (% of GDP)\n",
       "GC.REV.XGRT.GD.ZS     Revenue, excluding grants (% of GDP)\n",
       "GC.XPN.TOTL.GD.ZS     Expense (% of GDP)\n",
       "NE.CON.GOVT.ZS        General government final consumption expenditure (% of GDP)\n",
       "NE.CON.PETC.ZS        Household final consumption expenditure, etc. (% of GDP)\n",
       "NE.CON.PRVT.ZS        Households and NPISHs final consumption expenditure (% of GDP)\n",
       "NE.CON.TETC.ZS        Final consumption expenditure, etc. (% of GDP)\n",
       "NE.CON.TOTL.ZS        Final consumption expenditure (% of GDP)\n",
       "NE.DAB.TOTL.ZS        Gross national expenditure (% of GDP)\n",
       "NE.EXP.GNFS.ZS        Exports of goods and services (% of GDP)\n",
       "NE.GDI.FPRV.ZS        Gross fixed capital formation, private sector (% of GDP)\n",
       "NE.GDI.FTOT.ZS        Gross fixed capital formation (% of GDP)\n",
       "NE.GDI.TOTL.ZS        Gross capital formation (% of GDP)\n",
       "NE.IMP.GNFS.ZS        Imports of goods and services (% of GDP)\n",
       "NE.RSB.GNFS.ZS        External balance on goods and services (% of GDP)\n",
       "NE.TRD.GNFS.ZS        Trade (% of GDP)\n",
       "NV.AGR.TOTL.ZS        Agriculture, forestry, and fishing, value added (% of GDP)\n",
       "NV.IND.MANF.ZS        Manufacturing, value added (% of GDP)\n",
       "NV.IND.TOTL.ZS        Industry (including construction), value added (% of GDP)\n",
       "NV.SRV.TETC.ZS        Services, etc., value added (% of GDP)\n",
       "NV.SRV.TOTL.ZS        Services, value added (% of GDP)\n",
       "NY.GDP.DEFL.KD.ZG     Inflation, GDP deflator (annual %)\n",
       "NY.GDP.DEFL.ZS        GDP deflator (base year varies by country)\n",
       "NY.GDP.DISC.CN        Discrepancy in expenditure estimate of GDP (current LCU)\n",
       "NY.GDP.DISC.KN        Discrepancy in expenditure estimate of GDP (constant LCU)\n",
       "NY.GDP.MKTP.CD        GDP (current US$)\n",
       "NY.GDP.MKTP.CN        GDP (current LCU)\n",
       "NY.GDP.MKTP.CN.AD     GDP: linked series (current LCU)\n",
       "NY.GDP.MKTP.KD        GDP (constant 2015 US$)\n",
       "NY.GDP.MKTP.KD.ZG     GDP growth (annual %)\n",
       "NY.GDP.MKTP.KN        GDP (constant LCU)\n",
       "NY.GDP.MKTP.PP.CD     GDP, PPP (current international $)\n",
       "NY.GDP.MKTP.PP.KD     GDP, PPP (constant 2017 international $)\n",
       "NY.GDP.PCAP.CD        GDP per capita (current US$)\n",
       "NY.GDP.PCAP.CN        GDP per capita (current LCU)\n",
       "NY.GDP.PCAP.KD        GDP per capita (constant 2015 US$)\n",
       "NY.GDP.PCAP.KD.ZG     GDP per capita growth (annual %)\n",
       "NY.GDP.PCAP.KN        GDP per capita (constant LCU)\n",
       "NY.GDP.PCAP.PP.CD     GDP per capita, PPP (current international $)\n",
       "NY.GDP.PCAP.PP.KD     GDP per capita, PPP (constant 2017 international $)\n",
       "NY.GDS.TOTL.ZS        Gross domestic savings (% of GDP)\n",
       "NY.GNS.ICTR.ZS        Gross savings (% of GDP)\n",
       "PA.NUS.PPP            PPP conversion factor, GDP (LCU per international $)\n",
       "PA.NUS.PPP.05         2005 PPP conversion factor, GDP (LCU per international $)\n",
       "PA.NUS.PPPC.RF        Price level ratio of PPP conversion factor (GDP) to market exchange rate"
      ]
     },
     "execution_count": 40,
     "metadata": {},
     "output_type": "execute_result"
    }
   ],
   "source": [
    "wbdata.search_indicators(query='GDP', topic=3)"
   ]
  },
  {
   "cell_type": "code",
   "execution_count": 45,
   "metadata": {},
   "outputs": [
    {
     "data": {
      "text/plain": [
       "id    name\n",
       "----  ------\n",
       "POL   Poland"
      ]
     },
     "execution_count": 45,
     "metadata": {},
     "output_type": "execute_result"
    }
   ],
   "source": [
    "wbdata.search_countries('poland')"
   ]
  },
  {
   "cell_type": "code",
   "execution_count": 86,
   "metadata": {},
   "outputs": [
    {
     "data": {
      "text/plain": [
       "[id              name\n",
       " --------------  ----------------------------------------------------------------\n",
       " CM.MKT.LCAP.CD  Market capitalization of listed domestic companies (current US$),\n",
       " id              name\n",
       " --------------  -----------------\n",
       " NY.GDP.MKTP.CD  GDP (current US$),\n",
       " id              name\n",
       " --------------  ----------------------------------------\n",
       " CM.MKT.TRAD.CD  Stocks traded, total value (current US$)]"
      ]
     },
     "execution_count": 86,
     "metadata": {},
     "output_type": "execute_result"
    }
   ],
   "source": [
    "[wbdata.get_indicator(['CM.MKT.LCAP.CD']),wbdata.get_indicator('NY.GDP.MKTP.CD'), wbdata.get_indicator('CM.MKT.TRAD.CD')]"
   ]
  },
  {
   "cell_type": "code",
   "execution_count": 89,
   "metadata": {},
   "outputs": [],
   "source": [
    "# GDP (current US$)\n",
    "GDP = wbdata.get_data('NY.GDP.MKTP.CD',country='POL', pandas=True)\n",
    "# Stocks traded, total value (current US$)\n",
    "stock = wbdata.get_data('CM.MKT.TRAD.CD', country='POL', pandas=True)\n",
    "# Market capitalization of listed domestic companies (current US$)\n",
    "cap = wbdata.get_data('CM.MKT.LCAP.CD', country='POL', pandas=True)"
   ]
  },
  {
   "cell_type": "code",
   "execution_count": 90,
   "metadata": {},
   "outputs": [],
   "source": [
    "stock = stock.dropna().sort_index(ascending=False)\n",
    "stock_val = stock.iloc[0]\n",
    "stock_yr = stock.index[0]\n",
    "\n",
    "GDP = GDP.dropna().sort_index(ascending=False)\n",
    "gdp_val = GDP.iloc[0]\n",
    "gdp_yr = GDP.index[0]\n",
    "\n",
    "cap = cap.dropna().sort_index(ascending=False)\n",
    "cap_val = cap.iloc[0]\n",
    "cap_yr = cap.index[0]"
   ]
  },
  {
   "cell_type": "code",
   "execution_count": 91,
   "metadata": {},
   "outputs": [
    {
     "data": {
      "text/plain": [
       "[83438270000.0, '2020', 674048266397.369, '2021', 177508140000.0, '2020']"
      ]
     },
     "execution_count": 91,
     "metadata": {},
     "output_type": "execute_result"
    }
   ],
   "source": [
    "[stock_val, stock_yr,gdp_val,gdp_yr, cap_val,cap_yr]"
   ]
  },
  {
   "cell_type": "code",
   "execution_count": 120,
   "metadata": {},
   "outputs": [
    {
     "data": {
      "text/plain": [
       "'Africa'"
      ]
     },
     "execution_count": 120,
     "metadata": {},
     "output_type": "execute_result"
    }
   ],
   "source": [
    "conti = pd.read_csv('./continent_codes.csv', keep_default_na = False)"
   ]
  },
  {
   "cell_type": "code",
   "execution_count": 129,
   "metadata": {},
   "outputs": [],
   "source": [
    "g = geocoder.geonames('Teheran', key='stooq_app')\n",
    "g_id = g.geonames_id\n",
    "g_det = geocoder.geonames(g_id, method='details', key='stooq_app')"
   ]
  },
  {
   "cell_type": "code",
   "execution_count": 130,
   "metadata": {},
   "outputs": [
    {
     "data": {
      "text/plain": [
       "['AS', 'Asia', 'IR', 'city, village,...']"
      ]
     },
     "execution_count": 130,
     "metadata": {},
     "output_type": "execute_result"
    }
   ],
   "source": [
    "[g_det.continent,\n",
    " conti.loc[conti.loc[:, 'Code'] == g_det.continent,'Name'].to_string(index=False),\n",
    " g_det.country_code,\n",
    " g_det.class_description]\n"
   ]
  }
 ],
 "metadata": {
  "kernelspec": {
   "display_name": "Python 3.8.13 ('tradeDB')",
   "language": "python",
   "name": "python3"
  },
  "language_info": {
   "codemirror_mode": {
    "name": "ipython",
    "version": 3
   },
   "file_extension": ".py",
   "mimetype": "text/x-python",
   "name": "python",
   "nbconvert_exporter": "python",
   "pygments_lexer": "ipython3",
   "version": "3.11.4"
  },
  "orig_nbformat": 4,
  "vscode": {
   "interpreter": {
    "hash": "a345eaf6868bd42279d78f9802485f449238ee74a5b4ca967b83541dc183f6da"
   }
  }
 },
 "nbformat": 4,
 "nbformat_minor": 2
}
