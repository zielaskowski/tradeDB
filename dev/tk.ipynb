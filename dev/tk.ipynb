{
 "cells": [
  {
   "cell_type": "code",
   "execution_count": 1,
   "metadata": {},
   "outputs": [],
   "source": [
    "import tkinter as tk\n",
    "from PIL import Image, ImageTk"
   ]
  },
  {
   "cell_type": "code",
   "execution_count": 2,
   "metadata": {},
   "outputs": [
    {
     "data": {
      "text/plain": [
       "''"
      ]
     },
     "execution_count": 2,
     "metadata": {},
     "output_type": "execute_result"
    }
   ],
   "source": [
    "ans = \"\"\n",
    "\n",
    "def submit(txt):\n",
    "    ans = txt\n",
    "    root.destroy()\n",
    "\n",
    "root = tk.Tk()\n",
    "root.title(\"Captcha\")\n",
    "# calculate position x and y coordinates\n",
    "sx = root.winfo_screenwidth()\n",
    "sy = root.winfo_screenheight()\n",
    "width = 400\n",
    "height = 200\n",
    "x = (sx / 2) - (width / 2)\n",
    "y = (sy / 2) - (height / 2)\n",
    "root.geometry(\"%dx%d+%d+%d\" % (width, height, x, y))\n"
   ]
  },
  {
   "cell_type": "code",
   "execution_count": 3,
   "metadata": {},
   "outputs": [],
   "source": [
    "# Load the image from the file\n",
    "img = Image.open(\"./captcha.png\")\n",
    "img = ImageTk.PhotoImage(img)\n",
    "\n"
   ]
  },
  {
   "cell_type": "code",
   "execution_count": 6,
   "metadata": {},
   "outputs": [
    {
     "ename": "TclError",
     "evalue": "can't invoke \"label\" command: application has been destroyed",
     "output_type": "error",
     "traceback": [
      "\u001b[31m---------------------------------------------------------------------------\u001b[39m",
      "\u001b[31mTclError\u001b[39m                                  Traceback (most recent call last)",
      "\u001b[36mCell\u001b[39m\u001b[36m \u001b[39m\u001b[32mIn[6]\u001b[39m\u001b[32m, line 2\u001b[39m\n\u001b[32m      1\u001b[39m \u001b[38;5;66;03m# Create a label to display the image\u001b[39;00m\n\u001b[32m----> \u001b[39m\u001b[32m2\u001b[39m label = \u001b[43mtk\u001b[49m\u001b[43m.\u001b[49m\u001b[43mLabel\u001b[49m\u001b[43m(\u001b[49m\u001b[43mroot\u001b[49m\u001b[43m,\u001b[49m\u001b[43m \u001b[49m\u001b[43mimage\u001b[49m\u001b[43m=\u001b[49m\u001b[43mimg\u001b[49m\u001b[43m)\u001b[49m\n\u001b[32m      3\u001b[39m label.pack()\n",
      "\u001b[36mFile \u001b[39m\u001b[32m/usr/lib64/python3.11/tkinter/__init__.py:3236\u001b[39m, in \u001b[36mLabel.__init__\u001b[39m\u001b[34m(self, master, cnf, **kw)\u001b[39m\n\u001b[32m   3218\u001b[39m \u001b[38;5;28;01mdef\u001b[39;00m\u001b[38;5;250m \u001b[39m\u001b[34m__init__\u001b[39m(\u001b[38;5;28mself\u001b[39m, master=\u001b[38;5;28;01mNone\u001b[39;00m, cnf={}, **kw):\n\u001b[32m   3219\u001b[39m \u001b[38;5;250m    \u001b[39m\u001b[33;03m\"\"\"Construct a label widget with the parent MASTER.\u001b[39;00m\n\u001b[32m   3220\u001b[39m \n\u001b[32m   3221\u001b[39m \u001b[33;03m    STANDARD OPTIONS\u001b[39;00m\n\u001b[32m   (...)\u001b[39m\u001b[32m   3234\u001b[39m \n\u001b[32m   3235\u001b[39m \u001b[33;03m    \"\"\"\u001b[39;00m\n\u001b[32m-> \u001b[39m\u001b[32m3236\u001b[39m     \u001b[43mWidget\u001b[49m\u001b[43m.\u001b[49m\u001b[34;43m__init__\u001b[39;49m\u001b[43m(\u001b[49m\u001b[38;5;28;43mself\u001b[39;49m\u001b[43m,\u001b[49m\u001b[43m \u001b[49m\u001b[43mmaster\u001b[49m\u001b[43m,\u001b[49m\u001b[43m \u001b[49m\u001b[33;43m'\u001b[39;49m\u001b[33;43mlabel\u001b[39;49m\u001b[33;43m'\u001b[39;49m\u001b[43m,\u001b[49m\u001b[43m \u001b[49m\u001b[43mcnf\u001b[49m\u001b[43m,\u001b[49m\u001b[43m \u001b[49m\u001b[43mkw\u001b[49m\u001b[43m)\u001b[49m\n",
      "\u001b[36mFile \u001b[39m\u001b[32m/usr/lib64/python3.11/tkinter/__init__.py:2647\u001b[39m, in \u001b[36mBaseWidget.__init__\u001b[39m\u001b[34m(self, master, widgetName, cnf, kw, extra)\u001b[39m\n\u001b[32m   2645\u001b[39m \u001b[38;5;28;01mfor\u001b[39;00m k, v \u001b[38;5;129;01min\u001b[39;00m classes:\n\u001b[32m   2646\u001b[39m     \u001b[38;5;28;01mdel\u001b[39;00m cnf[k]\n\u001b[32m-> \u001b[39m\u001b[32m2647\u001b[39m \u001b[38;5;28;43mself\u001b[39;49m\u001b[43m.\u001b[49m\u001b[43mtk\u001b[49m\u001b[43m.\u001b[49m\u001b[43mcall\u001b[49m\u001b[43m(\u001b[49m\n\u001b[32m   2648\u001b[39m \u001b[43m    \u001b[49m\u001b[43m(\u001b[49m\u001b[43mwidgetName\u001b[49m\u001b[43m,\u001b[49m\u001b[43m \u001b[49m\u001b[38;5;28;43mself\u001b[39;49m\u001b[43m.\u001b[49m\u001b[43m_w\u001b[49m\u001b[43m)\u001b[49m\u001b[43m \u001b[49m\u001b[43m+\u001b[49m\u001b[43m \u001b[49m\u001b[43mextra\u001b[49m\u001b[43m \u001b[49m\u001b[43m+\u001b[49m\u001b[43m \u001b[49m\u001b[38;5;28;43mself\u001b[39;49m\u001b[43m.\u001b[49m\u001b[43m_options\u001b[49m\u001b[43m(\u001b[49m\u001b[43mcnf\u001b[49m\u001b[43m)\u001b[49m\u001b[43m)\u001b[49m\n\u001b[32m   2649\u001b[39m \u001b[38;5;28;01mfor\u001b[39;00m k, v \u001b[38;5;129;01min\u001b[39;00m classes:\n\u001b[32m   2650\u001b[39m     k.configure(\u001b[38;5;28mself\u001b[39m, v)\n",
      "\u001b[31mTclError\u001b[39m: can't invoke \"label\" command: application has been destroyed"
     ]
    }
   ],
   "source": [
    "# Create a label to display the image\n",
    "label = tk.Label(root, image=img)\n",
    "label.pack()"
   ]
  },
  {
   "cell_type": "code",
   "execution_count": 5,
   "metadata": {},
   "outputs": [],
   "source": [
    "\n",
    "\n",
    "# add some explanation\n",
    "captcha_text = \"Rewrite the above code to continue\"\n",
    "captcha_label = tk.Label(root, text=captcha_text)\n",
    "captcha_label.pack()\n",
    "\n",
    "# Create a text entry widget for user input\n",
    "entry = tk.Entry(root)\n",
    "entry.pack()\n",
    "\n",
    "# Create a button to submit the user input\n",
    "submit_button = tk.Button(root, text=\"Submit\", command=lambda: submit(entry.get()))\n",
    "submit_button.pack()\n",
    "# Create a button to stop\n",
    "submit_button = tk.Button(root, text=\"Quit\", command=lambda: root.destroy())\n",
    "submit_button.pack()\n",
    "\n",
    "# Run the main loop\n",
    "root.mainloop()"
   ]
  }
 ],
 "metadata": {
  "kernelspec": {
   "display_name": ".venv",
   "language": "python",
   "name": "python3"
  },
  "language_info": {
   "codemirror_mode": {
    "name": "ipython",
    "version": 3
   },
   "file_extension": ".py",
   "mimetype": "text/x-python",
   "name": "python",
   "nbconvert_exporter": "python",
   "pygments_lexer": "ipython3",
   "version": "3.11.11"
  }
 },
 "nbformat": 4,
 "nbformat_minor": 2
}
