{
 "cells": [
  {
   "cell_type": "code",
   "execution_count": 1,
   "metadata": {},
   "outputs": [],
   "source": [
    "from playwright.async_api import async_playwright\n",
    "from urllib.parse import urlparse\n",
    "url='https://stooq.pl/q/d/?s=^aor&d1=20230922&d2=20230925&l=1'\n",
    "#url='https://gazeta.pl'"
   ]
  },
  {
   "cell_type": "code",
   "execution_count": 2,
   "metadata": {},
   "outputs": [],
   "source": [
    "async def request(req):\n",
    "    ah = await req.all_headers()\n",
    "    ah = ah.get('cookie',{})\n",
    "    print(f'{req.url}>> {ah}')\n",
    "    #print(f\"{req.all_headers()['cookie']}>>{urlparse(req.url).netloc}\")\n",
    "\n",
    "async def response(resp):\n",
    "    ah = await resp.all_headers()\n",
    "    #ah = ah.get('set-cookie',{})\n",
    "    print(f'{resp.url}<< { ah}')\n",
    "    #print(f'{resp.headers.get(\"Set-Cookie\")}<<{urlparse(resp.url).netloc}')"
   ]
  },
  {
   "cell_type": "code",
   "execution_count": null,
   "metadata": {},
   "outputs": [
    {
     "name": "stdout",
     "output_type": "stream",
     "text": [
      "before click\n",
      "https://stooq.pl/q/d/?s=^aor&d1=20230922&d2=20230925&l=1>> {}\n",
      "https://stooq.pl/q/d/?s=^aor&d1=20230922&d2=20230925&l=1<< {'cache-control': 'pre-check=0, post-check=0, max-age=0', 'connection': 'Keep-Alive', 'content-encoding': 'deflate', 'content-type': 'text/html', 'date': 'Mon, 03 Mar 2025 19:36:17 GMT', 'expires': 'Sat, 1 Jan 2000 12:00:00 GMT', 'keep-alive': 'timeout=3, max=120', 'last-modified': 'Mon, 03 Mar 2025 20:36:17 GMT', 'pragma': 'no-cache', 'server': 'Apache', 'set-cookie': 'cookie_uu=p; expires=Sun, 28-Nov-2027 19:36:17 GMT; path=/; domain=stooq.pl', 'transfer-encoding': 'chunked'}\n",
      "https://stooq.pl/uu/>> cookie_uu=p\n",
      "https://stooq.pl/uu/<< {'cache-control': 'no-store, no-cache, must-revalidate', 'connection': 'Keep-Alive', 'content-length': '0', 'content-type': 'text/html', 'date': 'Mon, 03 Mar 2025 19:36:17 GMT', 'expires': 'Sat, 1 Jan 2000 12:00:00 GMT', 'keep-alive': 'timeout=3, max=119', 'last-modified': 'Mon, 03 Mar 2025 20:36:17 GMT', 'pragma': 'no-cache', 'server': 'Apache', 'set-cookie': 'cookie_uu=250303000; expires=Sun, 28-Nov-2027 19:36:17 GMT; path=/; domain=stooq.pl'}\n"
     ]
    },
    {
     "name": "stdout",
     "output_type": "stream",
     "text": [
      "https://stooq.pl/q/d/?s=^aor&d1=20230922&d2=20230925&l=1>> cookie_uu=250303000; FCCDCF=%5Bnull%2Cnull%2Cnull%2C%5B%22CQNsWoAQNsWoAEsACBPLBfFoAP_gAEPgAB5YINJD7C7FbSFCwH5zaLsAMAhHRsAAQoQAAASBAmABQAKQIAQCgkAYFASgBAACAAAAICRBIQIECAAAAUAAQAAAAAAEAAAAAAAIIAAAgAEAAAAIAAACAIAAEAAIAAAAEAAAmAgAAIIACAAAgAAAAAAAAAAAAAAAAACAAAAAAAAAAAAAAAAAAQNVSD2F2K2kKFkPCmwXYAYBCujYAAhQgAAAkCBMACgAUgQAgFJIAgCIFAAAAAAAAAQEiCQAAQABAAAIACgAAAAAAIAAAAAAAQQAABAAIAAAAAAAAEAQAAIAAQAAAAIAABEhAAAQQAEAAAAAAAQAAA.f-gAAAAAAAA%22%2C%222~70.89.93.108.122.149.184.196.236.259.311.313.323.358.415.442.486.494.495.540.574.609.864.981.1029.1048.1051.1095.1097.1126.1205.1276.1301.1365.1415.1449.1514.1570.1577.1598.1651.1716.1735.1753.1765.1870.1878.1889.1958.1960.2072.2253.2299.2373.2415.2506.2526.2531.2568.2571.2575.2624.2677.2778~dv.%22%2C%2223A1BAE6-17E8-4BCB-A3A5-A1ED9D4A0687%22%5D%5D; FCNEC=%5B%5B%22AKsRol9GZwJQ9FQQYJCJEhsYk3McQLNtUSZqW6MVvHWy-FtSMO4xXUk_Rrf6IU4UcmfGD3DCiRLfCfV9xG28Q2ryzAyKGtozLlHEeqsNfCNng2eFyFEixMdDmPvS-RXVJ37sR3NyuUXFdFi2-Hf5PFlFPRw-HWWPXQ%3D%3D%22%5D%5D; privacy=1741030579\n",
      "https://stooq.pl/q/d/?s=^aor&d1=20230922&d2=20230925&l=1<< {'cache-control': 'pre-check=0, post-check=0, max-age=0', 'connection': 'Keep-Alive', 'content-encoding': 'deflate', 'content-type': 'text/html', 'date': 'Mon, 03 Mar 2025 19:36:19 GMT', 'expires': 'Sat, 1 Jan 2000 12:00:00 GMT', 'keep-alive': 'timeout=3, max=117', 'last-modified': 'Mon, 03 Mar 2025 20:36:19 GMT', 'pragma': 'no-cache', 'server': 'Apache', 'set-cookie': 'PHPSESSID=mrkpqm3jefia8vb1t72ne0kit2; path=/\\nuid=plg0yyfka7zlye5yw83c0oa5cu; expires=Sun, 11-Mar-2035 19:36:19 GMT; path=/\\ncookie_user=%3F0001dllg000011500d1300e3%7C%5Eaor; expires=Wed, 11-Jun-2025 19:36:19 GMT; path=/; domain=stooq.pl', 'transfer-encoding': 'chunked'}\n",
      "https://stooq.pl/q/d/?s=^aor&d1=20230922&d2=20230925&l=1>> cookie_uu=250303000; FCCDCF=%5Bnull%2Cnull%2Cnull%2C%5B%22CQNsWoAQNsWoAEsACBPLBfFoAP_gAEPgAB5YINJD7C7FbSFCwH5zaLsAMAhHRsAAQoQAAASBAmABQAKQIAQCgkAYFASgBAACAAAAICRBIQIECAAAAUAAQAAAAAAEAAAAAAAIIAAAgAEAAAAIAAACAIAAEAAIAAAAEAAAmAgAAIIACAAAgAAAAAAAAAAAAAAAAACAAAAAAAAAAAAAAAAAAQNVSD2F2K2kKFkPCmwXYAYBCujYAAhQgAAAkCBMACgAUgQAgFJIAgCIFAAAAAAAAAQEiCQAAQABAAAIACgAAAAAAIAAAAAAAQQAABAAIAAAAAAAAEAQAAIAAQAAAAIAABEhAAAQQAEAAAAAAAQAAA.f-gAAAAAAAA%22%2C%222~70.89.93.108.122.149.184.196.236.259.311.313.323.358.415.442.486.494.495.540.574.609.864.981.1029.1048.1051.1095.1097.1126.1205.1276.1301.1365.1415.1449.1514.1570.1577.1598.1651.1716.1735.1753.1765.1870.1878.1889.1958.1960.2072.2253.2299.2373.2415.2506.2526.2531.2568.2571.2575.2624.2677.2778~dv.%22%2C%2223A1BAE6-17E8-4BCB-A3A5-A1ED9D4A0687%22%5D%5D; PHPSESSID=mrkpqm3jefia8vb1t72ne0kit2; uid=plg0yyfka7zlye5yw83c0oa5cu; cookie_user=%3F0001dllg000011500d1300e3%7C%5Eaor; __gads=ID=9a153d1e6e45e1f3:T=1741030580:RT=1741030580:S=ALNI_Mbt7i2kC0aG_RBV-0SPlTHk4V1aGg; __gpi=UID=0000104e4ee6bcec:T=1741030580:RT=1741030580:S=ALNI_MbTtaQF3FUY5G_8fQ5x4INyPGrpHQ; __eoi=ID=24fb37c73635774a:T=1741030580:RT=1741030580:S=AA-Afjbf-ZalkvSGNXOnoK36DsW7; FCNEC=%5B%5B%22AKsRol8DbtSJ-BOUpmQj2LnPg_tqcK4fELtjmHGHtm31cfQjMowgsTIK-nZO56r4Rg_rDIh6IZqPbLxP5bRin7NkHBsCEoytAfQbxv9oMEEUZssiPqCD0LtEnxfBEe4n8M-b_TT5lGv7y7z_1uSuACIu_fzkXhnnKQ%3D%3D%22%5D%5D; privacy=1741030581\n",
      "https://stooq.pl/q/d/?s=^aor&d1=20230922&d2=20230925&l=1<< {'cache-control': 'pre-check=0, post-check=0, max-age=0', 'connection': 'Keep-Alive', 'content-encoding': 'deflate', 'content-type': 'text/html', 'date': 'Mon, 03 Mar 2025 19:36:21 GMT', 'expires': 'Sat, 1 Jan 2000 12:00:00 GMT', 'keep-alive': 'timeout=3, max=116', 'last-modified': 'Mon, 03 Mar 2025 20:36:21 GMT', 'pragma': 'no-cache', 'server': 'Apache', 'set-cookie': 'cookie_user=%3F0001dllg000011500d1300e3%7C%5Eaor; expires=Wed, 11-Jun-2025 19:36:21 GMT; path=/; domain=stooq.pl', 'transfer-encoding': 'chunked'}\n"
     ]
    }
   ],
   "source": [
    "pw = await async_playwright().start()\n",
    "browser = await pw.chromium.launch(headless=False)\n",
    "page = await browser.new_page()\n",
    "page.on('request',  \n",
    "            lambda req: request(req)\n",
    "            if urlparse(req.url).netloc == urlparse(url).netloc\n",
    "            else None) \n",
    "page.on('response',  lambda resp: response(resp)\n",
    "            if urlparse(resp.url).netloc == urlparse(url).netloc\n",
    "            else None)\n",
    "print(\"before click\")\n",
    "await page.goto(url=url)\n",
    "await page.wait_for_load_state(\"domcontentloaded\")\n",
    "await page.locator('button.fc-cta-consent').click()\n",
    "page.once(\"load\", lambda: page.reload())\n",
    "#await page.wait_for_load_state(\"domcontentloaded\")\n",
    "#print(\"after click\")\n",
    "# await page.reload()\n",
    "# await browser.close()"
   ]
  },
  {
   "cell_type": "code",
   "execution_count": 8,
   "metadata": {},
   "outputs": [
    {
     "data": {
      "text/plain": [
       "[[{'name': 'FCCDCF',\n",
       "   'value': '%5Bnull%2Cnull%2Cnull%2C%5B%22CPy6fIAPy6fIAEsACBPLDZCoAP_AAEPAAB5YINJB7D7FbSFCwH57aLsAMAhXRsCAQqQAAASBAmABQAKQIAQCkkAYFESgBAACAAAAICZBIQIMCAgACUABQAAAAAEEAAAABAAIIAAAgAEAAAAIAAACAIAAEAAIAAAAEAAAmQhAAIIACAAAhAAAIAAAAAAAAAAAAgCAAAAAAAAAAAAAAAAAAQQaQD2F2K2kKFgPi2QWYAQBCijYEAhUAAAAkCBIAAgAUgQAgFIIAwAIFAAAAAAAAAQEgCQAAQABAAAIACgAAAAAAIAAAAAAAQQAAAAAIAAAAAAAAEAQAAAAAQAAAAIAABEhCAAQQAEAAAAAAAQAAAAAAAAAAABAAAAAAAAAAAAAAAAAAAAgAA.f-gAAAAAAAA%22%2C%221~2072.70.89.93.108.122.149.196.2253.2299.259.2357.311.317.323.2373.338.358.2415.415.2506.2526.482.486.494.495.2568.2571.2575.540.574.2624.609.2677.2779.827.864.981.1048.1051.1095.1097.1201.1205.1276.1301.1365.1415.1449.1570.1577.1651.1716.1735.1753.1765.1834.1870.1878.1889.1958%22%2C%226274E2FF-BDAC-4C6A-8184-6FE75FB66658%22%5D%2Cnull%2Cnull%2C%5B%5D%5D',\n",
       "   'domain': '.stooq.pl',\n",
       "   'path': '/',\n",
       "   'expires': 1729785513,\n",
       "   'httpOnly': False,\n",
       "   'secure': False,\n",
       "   'sameSite': 'Lax'},\n",
       "  {'name': 'FCNEC',\n",
       "   'value': '%5B%5B%22AKsRol_3wZxWr3VF0M7M6nGVO5qYphHXF9VRYdN4_Kl_oAFs9cHq9BMzfKIA-U3mE27pTjDWchF7OP-3TomVmX0isY1a8rteLSccEfVf3Ucc8cs1llsT-MIpdgSusFyQgAZbvjiy5JoZhGa5Fh9Vwi9VCyoZkRQVCA%3D%3D%22%5D%2Cnull%2C%5B%5D%5D',\n",
       "   'domain': '.stooq.pl',\n",
       "   'path': '/',\n",
       "   'expires': 1727625515,\n",
       "   'httpOnly': False,\n",
       "   'secure': False,\n",
       "   'sameSite': 'Lax'},\n",
       "  {'name': 'privacy',\n",
       "   'value': '1696089515',\n",
       "   'domain': 'stooq.pl',\n",
       "   'path': '/',\n",
       "   'expires': 1698681515,\n",
       "   'httpOnly': False,\n",
       "   'secure': False,\n",
       "   'sameSite': 'Lax'},\n",
       "  {'name': 'PHPSESSID',\n",
       "   'value': 'jbd1ei2pod6hrrgki0bhjh5v04',\n",
       "   'domain': 'stooq.pl',\n",
       "   'path': '/',\n",
       "   'expires': -1,\n",
       "   'httpOnly': False,\n",
       "   'secure': False,\n",
       "   'sameSite': 'Lax'},\n",
       "  {'name': 'cookie_uu',\n",
       "   'value': '230930000',\n",
       "   'domain': '.stooq.pl',\n",
       "   'path': '/',\n",
       "   'expires': 1730649515.466895,\n",
       "   'httpOnly': False,\n",
       "   'secure': False,\n",
       "   'sameSite': 'Lax'}]]"
      ]
     },
     "execution_count": 8,
     "metadata": {},
     "output_type": "execute_result"
    }
   ],
   "source": [
    "[await i.cookies() for i in browser.contexts]"
   ]
  }
 ],
 "metadata": {
  "kernelspec": {
   "display_name": ".venv",
   "language": "python",
   "name": "python3"
  },
  "language_info": {
   "codemirror_mode": {
    "name": "ipython",
    "version": 3
   },
   "file_extension": ".py",
   "mimetype": "text/x-python",
   "name": "python",
   "nbconvert_exporter": "python",
   "pygments_lexer": "ipython3",
   "version": "3.11.11"
  },
  "orig_nbformat": 4
 },
 "nbformat": 4,
 "nbformat_minor": 2
}
