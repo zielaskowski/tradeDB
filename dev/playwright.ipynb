{
 "cells": [
  {
   "cell_type": "code",
   "execution_count": 5,
   "metadata": {},
   "outputs": [],
   "source": [
    "from playwright.async_api import async_playwright\n",
    "from urllib.parse import urlparse\n",
    "url='https://stooq.pl/q/d/?s=^aor&d1=20230922&d2=20230925&l=1'\n",
    "#url='https://gazeta.pl'"
   ]
  },
  {
   "cell_type": "code",
   "execution_count": 6,
   "metadata": {},
   "outputs": [],
   "source": [
    "async def request(req):\n",
    "    ah = await req.all_headers()\n",
    "    ah = ah.get('cookie',{})\n",
    "    print(f'{req.url}>> {ah}')\n",
    "    #print(f\"{req.all_headers()['cookie']}>>{urlparse(req.url).netloc}\")\n",
    "\n",
    "async def response(resp):\n",
    "    ah = await resp.all_headers()\n",
    "    #ah = ah.get('set-cookie',{})\n",
    "    print(f'{resp.url}<< { ah}')\n",
    "    #print(f'{resp.headers.get(\"Set-Cookie\")}<<{urlparse(resp.url).netloc}')"
   ]
  },
  {
   "cell_type": "code",
   "execution_count": 15,
   "metadata": {},
   "outputs": [
    {
     "name": "stdout",
     "output_type": "stream",
     "text": [
      "before click\n",
      "https://stooq.pl/q/d/?s=^aor&d1=20230922&d2=20230925&l=1>> {}\n",
      "https://stooq.pl/q/d/?s=^aor&d1=20230922&d2=20230925&l=1<< {'cache-control': 'pre-check=0, post-check=0, max-age=0', 'connection': 'Keep-Alive', 'content-encoding': 'deflate', 'content-length': '4824', 'content-type': 'text/html', 'date': 'Sat, 30 Sep 2023 16:18:13 GMT', 'expires': 'Sat, 1 Jan 2000 12:00:00 GMT', 'keep-alive': 'timeout=3, max=120', 'last-modified': 'Sat, 30 Sep 2023 18:18:13 GMT', 'pragma': 'no-cache', 'server': 'Apache', 'set-cookie': 'cookie_uu=p; expires=Fri, 26-Jun-2026 16:18:13 GMT; path=/; domain=stooq.pl'}\n"
     ]
    },
    {
     "name": "stdout",
     "output_type": "stream",
     "text": [
      "https://stooq.pl/q/d/?s=^aor&d1=20230922&d2=20230925&l=1>> cookie_uu=p; FCCDCF=%5Bnull%2Cnull%2Cnull%2C%5B%22CPy6fIAPy6fIAEsACBPLDZCoAP_AAEPAAB5YINJB7D7FbSFCwH57aLsAMAhXRsCAQqQAAASBAmABQAKQIAQCkkAYFESgBAACAAAAICZBIQIMCAgACUABQAAAAAEEAAAABAAIIAAAgAEAAAAIAAACAIAAEAAIAAAAEAAAmQhAAIIACAAAhAAAIAAAAAAAAAAAAgCAAAAAAAAAAAAAAAAAAQQaQD2F2K2kKFgPi2QWYAQBCijYEAhUAAAAkCBIAAgAUgQAgFIIAwAIFAAAAAAAAAQEgCQAAQABAAAIACgAAAAAAIAAAAAAAQQAAAAAIAAAAAAAAEAQAAAAAQAAAAIAABEhCAAQQAEAAAAAAAQAAAAAAAAAAABAAAAAAAAAAAAAAAAAAAAgAA.f-gAAAAAAAA%22%2C%221~2072.70.89.93.108.122.149.196.2253.2299.259.2357.311.317.323.2373.338.358.2415.415.2506.2526.482.486.494.495.2568.2571.2575.540.574.2624.609.2677.2779.827.864.981.1048.1051.1095.1097.1201.1205.1276.1301.1365.1415.1449.1570.1577.1651.1716.1735.1753.1765.1834.1870.1878.1889.1958%22%2C%224BD723C4-53AA-446D-82E0-544C38DFABF5%22%5D%2Cnull%2Cnull%2C%5B%5D%5D; FCNEC=%5B%5B%22AKsRol-gS2pX2q66_HnUISfhkFVeXK_pZqNy8Jl4uF0IaQipy4w2QaG7lQR0F8jsvjFg_yZSFQBGRfPDfWeDj9bvPhBhndys4DMzI0KfTY9ISAosQ65_V4dsEVGurub_bAHO2lwbppRPB2SOFs4Hv3exp72migQRvw%3D%3D%22%5D%2Cnull%2C%5B%5D%5D; privacy=1696090696\n",
      "https://stooq.pl/q/d/?s=^aor&d1=20230922&d2=20230925&l=1<< {'cache-control': 'pre-check=0, post-check=0, max-age=0', 'connection': 'Keep-Alive', 'content-encoding': 'deflate', 'content-length': '2', 'content-type': 'text/html', 'date': 'Sat, 30 Sep 2023 16:18:16 GMT', 'expires': 'Sat, 1 Jan 2000 12:00:00 GMT', 'keep-alive': 'timeout=3, max=118', 'last-modified': 'Sat, 30 Sep 2023 18:18:16 GMT', 'pragma': 'no-cache', 'server': 'Apache', 'set-cookie': 'PHPSESSID=gdh5m9m5gj5okhe7ink6nuqjp1; path=/\\ncookie_uu=230930000; expires=Fri, 26-Jun-2026 16:18:16 GMT; path=/; domain=stooq.pl'}\n",
      "https://stooq.pl/q/d/?s=^aor&d1=20230922&d2=20230925&l=1>> FCCDCF=%5Bnull%2Cnull%2Cnull%2C%5B%22CPy6fIAPy6fIAEsACBPLDZCoAP_AAEPAAB5YINJB7D7FbSFCwH57aLsAMAhXRsCAQqQAAASBAmABQAKQIAQCkkAYFESgBAACAAAAICZBIQIMCAgACUABQAAAAAEEAAAABAAIIAAAgAEAAAAIAAACAIAAEAAIAAAAEAAAmQhAAIIACAAAhAAAIAAAAAAAAAAAAgCAAAAAAAAAAAAAAAAAAQQaQD2F2K2kKFgPi2QWYAQBCijYEAhUAAAAkCBIAAgAUgQAgFIIAwAIFAAAAAAAAAQEgCQAAQABAAAIACgAAAAAAIAAAAAAAQQAAAAAIAAAAAAAAEAQAAAAAQAAAAIAABEhCAAQQAEAAAAAAAQAAAAAAAAAAABAAAAAAAAAAAAAAAAAAAAgAA.f-gAAAAAAAA%22%2C%221~2072.70.89.93.108.122.149.196.2253.2299.259.2357.311.317.323.2373.338.358.2415.415.2506.2526.482.486.494.495.2568.2571.2575.540.574.2624.609.2677.2779.827.864.981.1048.1051.1095.1097.1201.1205.1276.1301.1365.1415.1449.1570.1577.1651.1716.1735.1753.1765.1834.1870.1878.1889.1958%22%2C%224BD723C4-53AA-446D-82E0-544C38DFABF5%22%5D%2Cnull%2Cnull%2C%5B%5D%5D; FCNEC=%5B%5B%22AKsRol-gS2pX2q66_HnUISfhkFVeXK_pZqNy8Jl4uF0IaQipy4w2QaG7lQR0F8jsvjFg_yZSFQBGRfPDfWeDj9bvPhBhndys4DMzI0KfTY9ISAosQ65_V4dsEVGurub_bAHO2lwbppRPB2SOFs4Hv3exp72migQRvw%3D%3D%22%5D%2Cnull%2C%5B%5D%5D; privacy=1696090696; PHPSESSID=gdh5m9m5gj5okhe7ink6nuqjp1; cookie_uu=230930000\n",
      "https://stooq.pl/q/d/?s=^aor&d1=20230922&d2=20230925&l=1<< {'cache-control': 'pre-check=0, post-check=0, max-age=0', 'connection': 'Keep-Alive', 'content-encoding': 'deflate', 'content-type': 'text/html', 'date': 'Sat, 30 Sep 2023 16:18:16 GMT', 'expires': 'Sat, 1 Jan 2000 12:00:00 GMT', 'keep-alive': 'timeout=3, max=117', 'last-modified': 'Sat, 30 Sep 2023 18:18:16 GMT', 'pragma': 'no-cache', 'server': 'Apache', 'set-cookie': 'uid=plc2c1ftv7s6p2wuqssn0dhh9h; expires=Fri, 07-Oct-2033 16:18:16 GMT; path=/\\ncookie_user=%3F0001dllg000011500d1300e3%7C%5Eaor; expires=Mon, 08-Jan-2024 16:18:16 GMT; path=/; domain=stooq.pl', 'transfer-encoding': 'chunked'}\n",
      "https://stooq.pl/ads/c/376_1.htm>> FCCDCF=%5Bnull%2Cnull%2Cnull%2C%5B%22CPy6fIAPy6fIAEsACBPLDZCoAP_AAEPAAB5YINJB7D7FbSFCwH57aLsAMAhXRsCAQqQAAASBAmABQAKQIAQCkkAYFESgBAACAAAAICZBIQIMCAgACUABQAAAAAEEAAAABAAIIAAAgAEAAAAIAAACAIAAEAAIAAAAEAAAmQhAAIIACAAAhAAAIAAAAAAAAAAAAgCAAAAAAAAAAAAAAAAAAQQaQD2F2K2kKFgPi2QWYAQBCijYEAhUAAAAkCBIAAgAUgQAgFIIAwAIFAAAAAAAAAQEgCQAAQABAAAIACgAAAAAAIAAAAAAAQQAAAAAIAAAAAAAAEAQAAAAAQAAAAIAABEhCAAQQAEAAAAAAAQAAAAAAAAAAABAAAAAAAAAAAAAAAAAAAAgAA.f-gAAAAAAAA%22%2C%221~2072.70.89.93.108.122.149.196.2253.2299.259.2357.311.317.323.2373.338.358.2415.415.2506.2526.482.486.494.495.2568.2571.2575.540.574.2624.609.2677.2779.827.864.981.1048.1051.1095.1097.1201.1205.1276.1301.1365.1415.1449.1570.1577.1651.1716.1735.1753.1765.1834.1870.1878.1889.1958%22%2C%224BD723C4-53AA-446D-82E0-544C38DFABF5%22%5D%2Cnull%2Cnull%2C%5B%5D%5D; FCNEC=%5B%5B%22AKsRol-gS2pX2q66_HnUISfhkFVeXK_pZqNy8Jl4uF0IaQipy4w2QaG7lQR0F8jsvjFg_yZSFQBGRfPDfWeDj9bvPhBhndys4DMzI0KfTY9ISAosQ65_V4dsEVGurub_bAHO2lwbppRPB2SOFs4Hv3exp72migQRvw%3D%3D%22%5D%2Cnull%2C%5B%5D%5D; privacy=1696090696; PHPSESSID=gdh5m9m5gj5okhe7ink6nuqjp1; cookie_uu=230930000; uid=plc2c1ftv7s6p2wuqssn0dhh9h; cookie_user=%3F0001dllg000011500d1300e3%7C%5Eaor\n",
      "https://stooq.pl/ads/c/376_1.htm<< {'connection': 'Keep-Alive', 'content-encoding': 'gzip', 'content-type': 'text/html', 'date': 'Sat, 30 Sep 2023 16:18:16 GMT', 'keep-alive': 'timeout=3, max=116', 'server': 'Apache', 'transfer-encoding': 'chunked'}\n"
     ]
    }
   ],
   "source": [
    "pw = await async_playwright().start()\n",
    "browser = await pw.chromium.launch(headless=False)\n",
    "page = await browser.new_page()\n",
    "page.on('request',  \n",
    "            lambda req: request(req)\n",
    "            if urlparse(req.url).netloc == urlparse(url).netloc\n",
    "            else None) \n",
    "page.on('response',  lambda resp: response(resp)\n",
    "            if urlparse(resp.url).netloc == urlparse(url).netloc\n",
    "            else None)\n",
    "print(\"before click\")\n",
    "await page.goto(url=url)\n",
    "await page.wait_for_load_state(\"domcontentloaded\")\n",
    "await page.locator('button.fc-cta-consent').click()\n",
    "page.once(\"load\", lambda: page.reload())\n",
    "#await page.wait_for_load_state(\"domcontentloaded\")\n",
    "#print(\"after click\")\n",
    "# await page.reload()\n",
    "# await browser.close()"
   ]
  },
  {
   "cell_type": "code",
   "execution_count": 8,
   "metadata": {},
   "outputs": [
    {
     "data": {
      "text/plain": [
       "[[{'name': 'FCCDCF',\n",
       "   'value': '%5Bnull%2Cnull%2Cnull%2C%5B%22CPy6fIAPy6fIAEsACBPLDZCoAP_AAEPAAB5YINJB7D7FbSFCwH57aLsAMAhXRsCAQqQAAASBAmABQAKQIAQCkkAYFESgBAACAAAAICZBIQIMCAgACUABQAAAAAEEAAAABAAIIAAAgAEAAAAIAAACAIAAEAAIAAAAEAAAmQhAAIIACAAAhAAAIAAAAAAAAAAAAgCAAAAAAAAAAAAAAAAAAQQaQD2F2K2kKFgPi2QWYAQBCijYEAhUAAAAkCBIAAgAUgQAgFIIAwAIFAAAAAAAAAQEgCQAAQABAAAIACgAAAAAAIAAAAAAAQQAAAAAIAAAAAAAAEAQAAAAAQAAAAIAABEhCAAQQAEAAAAAAAQAAAAAAAAAAABAAAAAAAAAAAAAAAAAAAAgAA.f-gAAAAAAAA%22%2C%221~2072.70.89.93.108.122.149.196.2253.2299.259.2357.311.317.323.2373.338.358.2415.415.2506.2526.482.486.494.495.2568.2571.2575.540.574.2624.609.2677.2779.827.864.981.1048.1051.1095.1097.1201.1205.1276.1301.1365.1415.1449.1570.1577.1651.1716.1735.1753.1765.1834.1870.1878.1889.1958%22%2C%226274E2FF-BDAC-4C6A-8184-6FE75FB66658%22%5D%2Cnull%2Cnull%2C%5B%5D%5D',\n",
       "   'domain': '.stooq.pl',\n",
       "   'path': '/',\n",
       "   'expires': 1729785513,\n",
       "   'httpOnly': False,\n",
       "   'secure': False,\n",
       "   'sameSite': 'Lax'},\n",
       "  {'name': 'FCNEC',\n",
       "   'value': '%5B%5B%22AKsRol_3wZxWr3VF0M7M6nGVO5qYphHXF9VRYdN4_Kl_oAFs9cHq9BMzfKIA-U3mE27pTjDWchF7OP-3TomVmX0isY1a8rteLSccEfVf3Ucc8cs1llsT-MIpdgSusFyQgAZbvjiy5JoZhGa5Fh9Vwi9VCyoZkRQVCA%3D%3D%22%5D%2Cnull%2C%5B%5D%5D',\n",
       "   'domain': '.stooq.pl',\n",
       "   'path': '/',\n",
       "   'expires': 1727625515,\n",
       "   'httpOnly': False,\n",
       "   'secure': False,\n",
       "   'sameSite': 'Lax'},\n",
       "  {'name': 'privacy',\n",
       "   'value': '1696089515',\n",
       "   'domain': 'stooq.pl',\n",
       "   'path': '/',\n",
       "   'expires': 1698681515,\n",
       "   'httpOnly': False,\n",
       "   'secure': False,\n",
       "   'sameSite': 'Lax'},\n",
       "  {'name': 'PHPSESSID',\n",
       "   'value': 'jbd1ei2pod6hrrgki0bhjh5v04',\n",
       "   'domain': 'stooq.pl',\n",
       "   'path': '/',\n",
       "   'expires': -1,\n",
       "   'httpOnly': False,\n",
       "   'secure': False,\n",
       "   'sameSite': 'Lax'},\n",
       "  {'name': 'cookie_uu',\n",
       "   'value': '230930000',\n",
       "   'domain': '.stooq.pl',\n",
       "   'path': '/',\n",
       "   'expires': 1730649515.466895,\n",
       "   'httpOnly': False,\n",
       "   'secure': False,\n",
       "   'sameSite': 'Lax'}]]"
      ]
     },
     "execution_count": 8,
     "metadata": {},
     "output_type": "execute_result"
    }
   ],
   "source": [
    "[await i.cookies() for i in browser.contexts]"
   ]
  }
 ],
 "metadata": {
  "kernelspec": {
   "display_name": "tradeDB",
   "language": "python",
   "name": "python3"
  },
  "language_info": {
   "codemirror_mode": {
    "name": "ipython",
    "version": 3
   },
   "file_extension": ".py",
   "mimetype": "text/x-python",
   "name": "python",
   "nbconvert_exporter": "python",
   "pygments_lexer": "ipython3",
   "version": "3.11.4"
  },
  "orig_nbformat": 4
 },
 "nbformat": 4,
 "nbformat_minor": 2
}
