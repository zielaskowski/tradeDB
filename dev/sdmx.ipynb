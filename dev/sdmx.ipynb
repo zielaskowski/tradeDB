{
 "cells": [
  {
   "cell_type": "code",
   "execution_count": 3,
   "metadata": {},
   "outputs": [],
   "source": [
    "import pandasdmx as sdmx"
   ]
  },
  {
   "cell_type": "code",
   "execution_count": 4,
   "metadata": {},
   "outputs": [
    {
     "data": {
      "text/plain": [
       "['ABS',\n",
       " 'ABS_XML',\n",
       " 'BBK',\n",
       " 'BIS',\n",
       " 'CD2030',\n",
       " 'ECB',\n",
       " 'EC_COMP',\n",
       " 'EC_EMPL',\n",
       " 'EC_GROW',\n",
       " 'ESTAT',\n",
       " 'ILO',\n",
       " 'IMF',\n",
       " 'INEGI',\n",
       " 'INSEE',\n",
       " 'ISTAT',\n",
       " 'LSD',\n",
       " 'NB',\n",
       " 'NBB',\n",
       " 'OECD',\n",
       " 'SGR',\n",
       " 'SPC',\n",
       " 'STAT_EE',\n",
       " 'UNICEF',\n",
       " 'UNSD',\n",
       " 'WB',\n",
       " 'WB_WDI']"
      ]
     },
     "execution_count": 4,
     "metadata": {},
     "output_type": "execute_result"
    }
   ],
   "source": [
    "sdmx.list_sources()"
   ]
  },
  {
   "cell_type": "code",
   "execution_count": 5,
   "metadata": {},
   "outputs": [
    {
     "data": {
      "text/plain": [
       "{'AME': <DataflowDefinition ECB:AME(1.0): AMECO>,\n",
       " 'BKN': <DataflowDefinition ECB:BKN(1.0): Banknotes statistics>,\n",
       " 'BLS': <DataflowDefinition ECB:BLS(1.0): Bank Lending Survey Statistics>,\n",
       " 'BNT': <DataflowDefinition ECB:BNT(1.0): Shipments of Euro Banknotes Statistics (ESCB)>,\n",
       " 'BOP': <DataflowDefinition ECB:BOP(1.0): Euro Area Balance of Payments and International Investment Position Statistics>,\n",
       " 'BPS': <DataflowDefinition ECB:BPS(1.0): Balance of Payments and International Investment Position>,\n",
       " 'BSI': <DataflowDefinition ECB:BSI(1.0): Balance Sheet Items>,\n",
       " 'BSP': <DataflowDefinition ECB:BSP(1.0): Balance Sheet Items Statistics (tables 2 to 5 of the Blue Book)>,\n",
       " 'CBD': <DataflowDefinition ECB:CBD(1.0): Statistics on Consolidated Banking Data>,\n",
       " 'CBD2': <DataflowDefinition ECB:CBD2(1.0): Consolidated Banking data>,\n",
       " 'CCP': <DataflowDefinition ECB:CCP(1.0): Central Counterparty Clearing Statistics>,\n",
       " 'CISS': <DataflowDefinition ECB:CISS(1.0): Composite Indicator of Systemic Stress>,\n",
       " 'CLIFS': <DataflowDefinition ECB:CLIFS(1.0): Country-Level Index of Financial Stress (CLIFS)>,\n",
       " 'CPP': <DataflowDefinition ECB:CPP(1.0): Commercial Property Price Statistics>,\n",
       " 'CSEC': <DataflowDefinition ECB:CSEC(1.0): CSEC>,\n",
       " 'DCM': <DataflowDefinition ECB:DCM(1.0): Dealogic DCM analytics data>,\n",
       " 'DD': <DataflowDefinition ECB:DD(1.0): Derived Data>,\n",
       " 'E11': <DataflowDefinition ECB:E11(1.0): Classification of the Functions of Government Statistics (Eurostat ESA2010 TP, table 11)>,\n",
       " 'EON': <DataflowDefinition ECB:EON(1.0): EONIA: Euro Interbank Offered Rate>,\n",
       " 'ESA': <DataflowDefinition ECB:ESA(1.0): ESA95 National Accounts>,\n",
       " 'ESB': <DataflowDefinition ECB:ESB(1.0): European Union Balance of Payments (Source Eurostat)>,\n",
       " 'EST': <DataflowDefinition ECB:EST(1.0): Euro Short-Term Rate>,\n",
       " 'EXR': <DataflowDefinition ECB:EXR(1.0): Exchange Rates>,\n",
       " 'FM': <DataflowDefinition ECB:FM(1.0): Financial market data>,\n",
       " 'FVC': <DataflowDefinition ECB:FVC(1.0): Financial Vehicle Corporation>,\n",
       " 'FXI': <DataflowDefinition ECB:FXI(1.0): Foreign Exchange Statistics>,\n",
       " 'GFS': <DataflowDefinition ECB:GFS(1.0): Government Finance Statistics>,\n",
       " 'GST': <DataflowDefinition ECB:GST(1.0): Government Statistics>,\n",
       " 'ICB': <DataflowDefinition ECB:ICB(1.0): Insurance Corporations Assets and Liabilities>,\n",
       " 'ICO': <DataflowDefinition ECB:ICO(1.0): Insurance Corporations Operations>,\n",
       " 'ICP': <DataflowDefinition ECB:ICP(1.0): Indices of Consumer prices>,\n",
       " 'IFI': <DataflowDefinition ECB:IFI(1.0): Indicators of Financial Integration>,\n",
       " 'ILM': <DataflowDefinition ECB:ILM(1.0): Internal Liquidity Management>,\n",
       " 'IRS': <DataflowDefinition ECB:IRS(1.0): Interest rate statistics>,\n",
       " 'IVF': <DataflowDefinition ECB:IVF(1.0): Investment Funds Balance Sheet Statistics>,\n",
       " 'KRI': <DataflowDefinition ECB:KRI(1.0): EBA Key Risk Indicators>,\n",
       " 'LIG': <DataflowDefinition ECB:LIG(1.0): Large Insurance Groups Statistics>,\n",
       " 'MFI': <DataflowDefinition ECB:MFI(1.0): List of MFIs>,\n",
       " 'MIR': <DataflowDefinition ECB:MIR(1.0): MFI Interest Rate Statistics>,\n",
       " 'MMS': <DataflowDefinition ECB:MMS(1.0): Money Market Survey>,\n",
       " 'MMSR': <DataflowDefinition ECB:MMSR(1.0): Money Market Statistical Reporting>,\n",
       " 'MPD': <DataflowDefinition ECB:MPD(1.0): Macroeconomic Projection Database>,\n",
       " 'OFI': <DataflowDefinition ECB:OFI(1.0): Other Financial Intermediaries>,\n",
       " 'PFB': <DataflowDefinition ECB:PFB(1.0): Pension Fund Assets and Liabilities>,\n",
       " 'PFBR': <DataflowDefinition ECB:PFBR(1.0): Pension funds Regulation>,\n",
       " 'PSS': <DataflowDefinition ECB:PSS(1.0): Payments and Settlement Systems Statistics>,\n",
       " 'QSA': <DataflowDefinition ECB:QSA(1.0): Quarterly Sector Accounts>,\n",
       " 'RA': <DataflowDefinition ECB:RA(1.0): International Reserves of the Eurosystem>,\n",
       " 'RAI': <DataflowDefinition ECB:RAI(1.0): Risk Assessment Indicators>,\n",
       " 'RAS': <DataflowDefinition ECB:RAS(1.0): RAS>,\n",
       " 'RDE': <DataflowDefinition ECB:RDE(1.0): Risk Dashboard data>,\n",
       " 'RDF': <DataflowDefinition ECB:RDF(1.0): Risk Dashboard data>,\n",
       " 'RESC': <DataflowDefinition ECB:RESC(1.0): Commercial Property Prices>,\n",
       " 'RESH': <DataflowDefinition ECB:RESH(1.0): Structural Housing Indicators>,\n",
       " 'RESR': <DataflowDefinition ECB:RESR(1.0): Real Estate Statistics>,\n",
       " 'RESV': <DataflowDefinition ECB:RESV(1.0): Residential Property Valuation>,\n",
       " 'RIR': <DataflowDefinition ECB:RIR(1.0): Retail Interest Rates>,\n",
       " 'RPP': <DataflowDefinition ECB:RPP(1.0): Residential Property Price Index Statistics>,\n",
       " 'RPV': <DataflowDefinition ECB:RPV(1.0): Residential Property Valuation>,\n",
       " 'RTD': <DataflowDefinition ECB:RTD(1.0): Real Time Database (research database)>,\n",
       " 'SAFE': <DataflowDefinition ECB:SAFE(1.0): Survey on the Access to Finance of SMEs>,\n",
       " 'SEC': <DataflowDefinition ECB:SEC(1.0): Securities>,\n",
       " 'SEE': <DataflowDefinition ECB:SEE(1.0): Securities exchange - Trading Statistics>,\n",
       " 'SHI': <DataflowDefinition ECB:SHI(1.0): Structural Housing Indicators Statistics>,\n",
       " 'SHS': <DataflowDefinition ECB:SHS(1.0): Securities Holding Statistics>,\n",
       " 'SHSS': <DataflowDefinition ECB:SHSS(1.0): SHSS>,\n",
       " 'SPF': <DataflowDefinition ECB:SPF(1.0): Survey of Professional Forecasters>,\n",
       " 'SSI': <DataflowDefinition ECB:SSI(1.0): Banking structural statistical indicators>,\n",
       " 'SSP': <DataflowDefinition ECB:SSP(1.0): Structural Financial Indicators for Payments>,\n",
       " 'SST': <DataflowDefinition ECB:SST(1.0): Securities Settlement Statistics>,\n",
       " 'ST1': <DataflowDefinition ECB:ST1(1.0): Balance of Payments statistics, national data>,\n",
       " 'ST3': <DataflowDefinition ECB:ST3(1.0): Euro Area Balance of Payments and International Investment Position Statistics, Geographical Breakdown>,\n",
       " 'STP': <DataflowDefinition ECB:STP(1.0): STEP data>,\n",
       " 'STS': <DataflowDefinition ECB:STS(1.0): Short-Term Statistics>,\n",
       " 'SUP': <DataflowDefinition ECB:SUP(1.0): Supervisory Banking Statistics>,\n",
       " 'SUR': <DataflowDefinition ECB:SUR(1.0): Opinion Surveys>,\n",
       " 'TGB': <DataflowDefinition ECB:TGB(1.0): Target Balances>,\n",
       " 'TRD': <DataflowDefinition ECB:TRD(1.0): External Trade>,\n",
       " 'WTS': <DataflowDefinition ECB:WTS(1.0): Trade weights>,\n",
       " 'YC': <DataflowDefinition ECB:YC(1.0): Financial market data - yield curve>}"
      ]
     },
     "execution_count": 5,
     "metadata": {},
     "output_type": "execute_result"
    }
   ],
   "source": [
    "ecb=sdmx.Request('ECB')\n",
    "ecb.dataflow().dataflow"
   ]
  },
  {
   "cell_type": "code",
   "execution_count": 6,
   "metadata": {},
   "outputs": [
    {
     "data": {
      "text/plain": [
       "<DataStructureDefinition ECB:ECB_EXR1(1.0): Exchange Rates>"
      ]
     },
     "execution_count": 6,
     "metadata": {},
     "output_type": "execute_result"
    }
   ],
   "source": [
    "exr=ecb.dataflow('EXR')\n",
    "exr.dataflow.EXR.structure"
   ]
  },
  {
   "cell_type": "code",
   "execution_count": 7,
   "metadata": {},
   "outputs": [
    {
     "data": {
      "text/plain": [
       "{<Dimension CURRENCY_DENOM>: <MemberSelection CURRENCY_DENOM in {'ATS', 'CHF', 'HRK', 'ITL', 'MXN', 'LVL', 'MTL', 'CLP', 'ZAR', 'AUD', 'ILS', 'IDR', 'TRY', 'CYP', 'HKD', 'AED', 'TWD', 'EUR', 'DKK', 'CAD', 'MYR', 'BGN', 'EEK', 'NOK', 'RON', 'MAD', 'IEP', 'CZK', 'GRD', 'SEK', 'UAH', 'SIT', 'PTE', 'ARS', 'LTL', 'SAR', 'NLG', 'INR', 'CNY', 'THB', 'KRW', 'JPY', 'PLN', 'GBP', 'HUF', 'PHP', 'LUF', 'RUB', 'ISK', 'BEF', 'ESP', 'COP', 'USD', 'FIM', 'DEM', 'DZD', 'SGD', 'SKK', 'PEN', 'NZD', 'FRF', 'BRL'}>,\n",
       " <Dimension EXR_TYPE>: <MemberSelection EXR_TYPE in {'NRP0', 'NN00', 'NRD0', 'NRU1', 'NRC0', 'ERU0', 'EN00', 'ERD0', 'ERU1', 'ERC0', 'SP00', 'ERP0'}>,\n",
       " <Dimension EXR_SUFFIX>: <MemberSelection EXR_SUFFIX in {'P', 'A', 'R', 'S', 'T', 'E'}>,\n",
       " <Dimension FREQ>: <MemberSelection FREQ in {'A', 'Q', 'D', 'H', 'M'}>,\n",
       " <Dimension CURRENCY>: <MemberSelection CURRENCY in {'CHF', 'HRK', 'MXN', 'LVL', 'MTL', 'E02', 'E01', 'E03', 'ZAR', 'AUD', 'E5', 'ILS', 'E7', 'E8', 'IDR', 'TRY', 'CYP', 'HKD', 'TWD', 'DKK', 'CAD', 'MYR', 'BGN', 'EEK', 'NOK', 'H37', 'RON', 'MAD', 'CZK', 'GRD', 'SEK', 'SIT', 'ARS', 'LTL', 'H42', 'H01', 'H00', 'H03', 'H02', 'INR', 'CNY', 'THB', 'KRW', 'JPY', 'PLN', 'GBP', 'HUF', 'PHP', 'RUB', 'ISK', 'H10', 'USD', 'H11', 'DZD', 'EGP', 'H7', 'H8', 'SGD', 'SKK', 'NZD', 'BRL'}>}"
      ]
     },
     "execution_count": 7,
     "metadata": {},
     "output_type": "execute_result"
    }
   ],
   "source": [
    "exr.constraint.EXR_CONSTRAINTS.data_content_region[0].member"
   ]
  },
  {
   "cell_type": "code",
   "execution_count": 8,
   "metadata": {},
   "outputs": [],
   "source": [
    "dsd=exr.structure.ECB_EXR1"
   ]
  },
  {
   "cell_type": "code",
   "execution_count": 9,
   "metadata": {},
   "outputs": [
    {
     "data": {
      "text/plain": [
       "[<DataAttribute TIME_FORMAT>,\n",
       " <DataAttribute OBS_STATUS>,\n",
       " <DataAttribute OBS_CONF>,\n",
       " <DataAttribute OBS_PRE_BREAK>,\n",
       " <DataAttribute OBS_COM>,\n",
       " <DataAttribute BREAKS>,\n",
       " <DataAttribute COLLECTION>,\n",
       " <DataAttribute COMPILING_ORG>,\n",
       " <DataAttribute DISS_ORG>,\n",
       " <DataAttribute DOM_SER_IDS>,\n",
       " <DataAttribute PUBL_ECB>,\n",
       " <DataAttribute PUBL_MU>,\n",
       " <DataAttribute PUBL_PUBLIC>,\n",
       " <DataAttribute UNIT_INDEX_BASE>,\n",
       " <DataAttribute COMPILATION>,\n",
       " <DataAttribute COVERAGE>,\n",
       " <DataAttribute DECIMALS>,\n",
       " <DataAttribute NAT_TITLE>,\n",
       " <DataAttribute SOURCE_AGENCY>,\n",
       " <DataAttribute SOURCE_PUB>,\n",
       " <DataAttribute TITLE>,\n",
       " <DataAttribute TITLE_COMPL>,\n",
       " <DataAttribute UNIT>,\n",
       " <DataAttribute UNIT_MULT>]"
      ]
     },
     "execution_count": 9,
     "metadata": {},
     "output_type": "execute_result"
    }
   ],
   "source": [
    "dsd.attributes.components"
   ]
  },
  {
   "cell_type": "code",
   "execution_count": 10,
   "metadata": {},
   "outputs": [
    {
     "data": {
      "text/plain": [
       "[<Dimension FREQ>,\n",
       " <Dimension CURRENCY>,\n",
       " <Dimension CURRENCY_DENOM>,\n",
       " <Dimension EXR_TYPE>,\n",
       " <Dimension EXR_SUFFIX>,\n",
       " <TimeDimension TIME_PERIOD>]"
      ]
     },
     "execution_count": 10,
     "metadata": {},
     "output_type": "execute_result"
    }
   ],
   "source": [
    "dsd.dimensions.components"
   ]
  },
  {
   "cell_type": "code",
   "execution_count": 11,
   "metadata": {},
   "outputs": [
    {
     "data": {
      "text/plain": [
       "[<Code BRC0: Real bilateral exchange rate, CPI deflated>,\n",
       " <Code CR00: Central rate>,\n",
       " <Code DFC0: Real effective exch. rate deflator based on CPI>,\n",
       " <Code DFC1: Real effective exch. rate deflator based on retail prices>,\n",
       " <Code DFD0: Real effective exch. rate deflator based on GDP deflator>,\n",
       " <Code DFM0: Real effective exch. rate deflator based on import unit values>,\n",
       " <Code DFP0: Real effective exch. rate deflator based on producer prices>,\n",
       " <Code DFU0: Real effective exch. rate deflator based on ULC manufacturing>,\n",
       " <Code DFU1: Real effective exch. rate deflator based on ULC total economy>,\n",
       " <Code DFW0: Real effective exch. rate deflator based on wholesale prices>,\n",
       " <Code DFX0: Real effective exch. rate deflator based on export unit values>,\n",
       " <Code EN00: Nominal effective exch. rate>,\n",
       " <Code ER00: Constant (real) exchange rate>,\n",
       " <Code ERC0: Real effective exch. rate CPI deflated>,\n",
       " <Code ERC1: Real effective exch. rate retail prices deflated>,\n",
       " <Code ERD0: Real effective exch. rate GDP deflators deflated>,\n",
       " <Code ERM0: Real effective exch. rate import unit values deflated>,\n",
       " <Code ERP0: Real effective exch. rate producer prices deflated>,\n",
       " <Code ERU0: Real effective exch. rate ULC manufacturing deflated>,\n",
       " <Code ERU1: Real effective exch. rate ULC total economy deflated>,\n",
       " <Code ERW0: Real effective exch. rate wholesale prices deflated>,\n",
       " <Code ERX0: Real effective exch. rate export unit values deflated>,\n",
       " <Code F01M: 1m-forward>,\n",
       " <Code F03M: 3m-forward>,\n",
       " <Code F06M: 6m-forward>,\n",
       " <Code F12M: 12m-forward>,\n",
       " <Code IR00: Indicative rate>,\n",
       " <Code NN00: Nominal harmonised competitiveness indicator (ECB terminology), Nominal effective exchange rate (EC terminology)>,\n",
       " <Code NRC0: Real harmonised competitiveness indicator CPI deflated (ECB terminology), Real effective exchange rate (EC terminology)>,\n",
       " <Code NRD0: Real harmonised competitiveness indicator GDP deflators deflated>,\n",
       " <Code NRP0: Real harmonised competitiveness indicator Producer Prices deflated>,\n",
       " <Code NRU0: Real harmonised competitiveness indicator ULC manufacturing deflated>,\n",
       " <Code NRU1: Real harmonised competitiveness indicator ULC in total economy deflated>,\n",
       " <Code OF00: Official fixing>,\n",
       " <Code RR00: Reference rate>,\n",
       " <Code SP00: Spot>]"
      ]
     },
     "execution_count": 11,
     "metadata": {},
     "output_type": "execute_result"
    }
   ],
   "source": [
    "dim = dsd.dimensions.get('EXR_TYPE')\n",
    "list(dim.local_representation.enumerated)"
   ]
  },
  {
   "cell_type": "code",
   "execution_count": 12,
   "metadata": {},
   "outputs": [
    {
     "data": {
      "text/plain": [
       "<Codelist ECB:CL_FREQ(1.0) (10 items): Frequency code list>"
      ]
     },
     "execution_count": 12,
     "metadata": {},
     "output_type": "execute_result"
    }
   ],
   "source": [
    "exr.codelist.CL_FREQ"
   ]
  },
  {
   "cell_type": "code",
   "execution_count": 20,
   "metadata": {},
   "outputs": [],
   "source": [
    "params = {\n",
    "        \"startPeriod\": '2022-12-30',\n",
    "        \"endPeriod\": '2023-10-23'\n",
    "    }\n",
    "d=ecb.data('EXR', key={'FREQ': 'D', 'CURRENCY': ['EUR','BGN','PLN']},params=params,dsd=dsd).data[0]"
   ]
  },
  {
   "cell_type": "code",
   "execution_count": 21,
   "metadata": {},
   "outputs": [
    {
     "data": {
      "text/html": [
       "<div>\n",
       "<style scoped>\n",
       "    .dataframe tbody tr th:only-of-type {\n",
       "        vertical-align: middle;\n",
       "    }\n",
       "\n",
       "    .dataframe tbody tr th {\n",
       "        vertical-align: top;\n",
       "    }\n",
       "\n",
       "    .dataframe thead tr th {\n",
       "        text-align: left;\n",
       "    }\n",
       "\n",
       "    .dataframe thead tr:last-of-type th {\n",
       "        text-align: right;\n",
       "    }\n",
       "</style>\n",
       "<table border=\"1\" class=\"dataframe\">\n",
       "  <thead>\n",
       "    <tr>\n",
       "      <th>FREQ</th>\n",
       "      <th colspan=\"2\" halign=\"left\">D</th>\n",
       "    </tr>\n",
       "    <tr>\n",
       "      <th>CURRENCY</th>\n",
       "      <th>BGN</th>\n",
       "      <th>PLN</th>\n",
       "    </tr>\n",
       "    <tr>\n",
       "      <th>CURRENCY_DENOM</th>\n",
       "      <th>EUR</th>\n",
       "      <th>EUR</th>\n",
       "    </tr>\n",
       "    <tr>\n",
       "      <th>EXR_TYPE</th>\n",
       "      <th>SP00</th>\n",
       "      <th>SP00</th>\n",
       "    </tr>\n",
       "    <tr>\n",
       "      <th>EXR_SUFFIX</th>\n",
       "      <th>A</th>\n",
       "      <th>A</th>\n",
       "    </tr>\n",
       "    <tr>\n",
       "      <th>TIME_PERIOD</th>\n",
       "      <th></th>\n",
       "      <th></th>\n",
       "    </tr>\n",
       "  </thead>\n",
       "  <tbody>\n",
       "    <tr>\n",
       "      <th>2022-12-30</th>\n",
       "      <td>1.9558</td>\n",
       "      <td>4.6808</td>\n",
       "    </tr>\n",
       "    <tr>\n",
       "      <th>2023-01-02</th>\n",
       "      <td>1.9558</td>\n",
       "      <td>4.6813</td>\n",
       "    </tr>\n",
       "    <tr>\n",
       "      <th>2023-01-03</th>\n",
       "      <td>1.9558</td>\n",
       "      <td>4.6831</td>\n",
       "    </tr>\n",
       "    <tr>\n",
       "      <th>2023-01-04</th>\n",
       "      <td>1.9558</td>\n",
       "      <td>4.6685</td>\n",
       "    </tr>\n",
       "    <tr>\n",
       "      <th>2023-01-05</th>\n",
       "      <td>1.9558</td>\n",
       "      <td>4.6700</td>\n",
       "    </tr>\n",
       "    <tr>\n",
       "      <th>...</th>\n",
       "      <td>...</td>\n",
       "      <td>...</td>\n",
       "    </tr>\n",
       "    <tr>\n",
       "      <th>2023-10-17</th>\n",
       "      <td>1.9558</td>\n",
       "      <td>4.4273</td>\n",
       "    </tr>\n",
       "    <tr>\n",
       "      <th>2023-10-18</th>\n",
       "      <td>1.9558</td>\n",
       "      <td>4.4410</td>\n",
       "    </tr>\n",
       "    <tr>\n",
       "      <th>2023-10-19</th>\n",
       "      <td>1.9558</td>\n",
       "      <td>4.4500</td>\n",
       "    </tr>\n",
       "    <tr>\n",
       "      <th>2023-10-20</th>\n",
       "      <td>1.9558</td>\n",
       "      <td>4.4653</td>\n",
       "    </tr>\n",
       "    <tr>\n",
       "      <th>2023-10-23</th>\n",
       "      <td>1.9558</td>\n",
       "      <td>4.4590</td>\n",
       "    </tr>\n",
       "  </tbody>\n",
       "</table>\n",
       "<p>209 rows × 2 columns</p>\n",
       "</div>"
      ],
      "text/plain": [
       "FREQ                 D        \n",
       "CURRENCY           BGN     PLN\n",
       "CURRENCY_DENOM     EUR     EUR\n",
       "EXR_TYPE          SP00    SP00\n",
       "EXR_SUFFIX           A       A\n",
       "TIME_PERIOD                   \n",
       "2022-12-30      1.9558  4.6808\n",
       "2023-01-02      1.9558  4.6813\n",
       "2023-01-03      1.9558  4.6831\n",
       "2023-01-04      1.9558  4.6685\n",
       "2023-01-05      1.9558  4.6700\n",
       "...                ...     ...\n",
       "2023-10-17      1.9558  4.4273\n",
       "2023-10-18      1.9558  4.4410\n",
       "2023-10-19      1.9558  4.4500\n",
       "2023-10-20      1.9558  4.4653\n",
       "2023-10-23      1.9558  4.4590\n",
       "\n",
       "[209 rows x 2 columns]"
      ]
     },
     "execution_count": 21,
     "metadata": {},
     "output_type": "execute_result"
    }
   ],
   "source": [
    "sdmx.to_pandas(d, datetime='TIME_PERIOD')"
   ]
  },
  {
   "cell_type": "code",
   "execution_count": null,
   "metadata": {},
   "outputs": [
    {
     "data": {
      "text/plain": [
       "True"
      ]
     },
     "execution_count": 159,
     "metadata": {},
     "output_type": "execute_result"
    }
   ],
   "source": [
    "cur=exr.structure.ECB_EXR1.dimensions.get('CURRENCY')\n",
    "'USD' in sdmx.to_pandas(cur.local_representation.enumerated).index.to_list()"
   ]
  },
  {
   "cell_type": "code",
   "execution_count": null,
   "metadata": {},
   "outputs": [
    {
     "data": {
      "text/plain": [
       "['ABS',\n",
       " 'ABS_XML',\n",
       " 'BBK',\n",
       " 'BIS',\n",
       " 'CD2030',\n",
       " 'ECB',\n",
       " 'EC_COMP',\n",
       " 'EC_EMPL',\n",
       " 'EC_GROW',\n",
       " 'ESTAT',\n",
       " 'ILO',\n",
       " 'IMF',\n",
       " 'INEGI',\n",
       " 'INSEE',\n",
       " 'ISTAT',\n",
       " 'LSD',\n",
       " 'NB',\n",
       " 'NBB',\n",
       " 'OECD',\n",
       " 'SGR',\n",
       " 'SPC',\n",
       " 'STAT_EE',\n",
       " 'UNICEF',\n",
       " 'UNSD',\n",
       " 'WB',\n",
       " 'WB_WDI']"
      ]
     },
     "execution_count": 134,
     "metadata": {},
     "output_type": "execute_result"
    }
   ],
   "source": [
    "sdmx.list_sources()"
   ]
  }
 ],
 "metadata": {
  "kernelspec": {
   "display_name": "tradeDB",
   "language": "python",
   "name": "python3"
  },
  "language_info": {
   "codemirror_mode": {
    "name": "ipython",
    "version": 3
   },
   "file_extension": ".py",
   "mimetype": "text/x-python",
   "name": "python",
   "nbconvert_exporter": "python",
   "pygments_lexer": "ipython3",
   "version": "3.11.5"
  },
  "orig_nbformat": 4
 },
 "nbformat": 4,
 "nbformat_minor": 2
}
